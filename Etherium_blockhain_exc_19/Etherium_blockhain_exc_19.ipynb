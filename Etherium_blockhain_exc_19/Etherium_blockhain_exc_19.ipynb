{
 "cells": [
  {
   "cell_type": "code",
   "execution_count": 1,
   "metadata": {},
   "outputs": [],
   "source": [
    "import pandas as pd\n",
    "import numpy as np\n",
    "import matplotlib.pyplot as plt\n",
    "import tensorflow as tf\n",
    "import seaborn as sns\n",
    "from datetime import datetime\n",
    "\n",
    "from sklearn.model_selection import train_test_split\n",
    "from tensorflow.keras.models import Sequential\n",
    "from tensorflow.keras.layers import Dense, Input\n",
    "from tensorflow.keras.callbacks import EarlyStopping, ReduceLROnPlateau\n",
    "from sklearn.preprocessing import StandardScaler, MinMaxScaler\n",
    "from sklearn.linear_model import Ridge\n",
    "from sklearn.ensemble import RandomForestRegressor\n",
    "from sklearn.metrics import mean_squared_error, r2_score, mean_absolute_error, mean_absolute_percentage_error, root_mean_squared_error\n",
    "from sklearn.model_selection import RandomizedSearchCV\n",
    "from scipy.stats import uniform\n",
    "from scipy import stats"
   ]
  },
  {
   "cell_type": "code",
   "execution_count": 2,
   "metadata": {},
   "outputs": [],
   "source": [
    "# from pandas_gbq import read_gbq\n",
    "\n",
    "# from google.cloud import bigquery\n",
    "# from google.oauth2 import service_account\n",
    "\n",
    "\n",
    "# KEY = \"big-files/idyllic-tendril-421208-5bc1941f7008.json\"\n",
    "\n",
    "# credentials = service_account.Credentials.from_service_account_file(KEY)\n",
    "\n",
    "# client = bigquery.Client(credentials=credentials, project=credentials.project_id)\n",
    "\n",
    "# table_id = 'bigquery-public-data.crypto_ethereum.transactions'\n",
    "\n",
    "# query = f\"\"\"\n",
    "# SELECT gas, max_fee_per_gas, max_priority_fee_per_gas, receipt_effective_gas_price, gas_price, block_timestamp\n",
    "# FROM `{table_id}`\n",
    "# LIMIT 100000\n",
    "# \"\"\"\n",
    "\n",
    "# data = read_gbq(query, project_id=credentials.project_id, credentials=credentials)\n",
    "\n",
    "# data.to_csv(\"transactions100000.csv\")"
   ]
  },
  {
   "cell_type": "code",
   "execution_count": 3,
   "metadata": {},
   "outputs": [],
   "source": [
    "TRAIN_DIRECTORY = \"big-files/transactions100000.csv\""
   ]
  },
  {
   "cell_type": "markdown",
   "metadata": {},
   "source": [
    "# 1. Data Exploration and Preprocessing"
   ]
  },
  {
   "cell_type": "markdown",
   "metadata": {},
   "source": [
    "### 1.1 Loading the Dataset and Understanding its Structure"
   ]
  },
  {
   "cell_type": "code",
   "execution_count": 4,
   "metadata": {},
   "outputs": [
    {
     "data": {
      "text/html": [
       "<div>\n",
       "<style scoped>\n",
       "    .dataframe tbody tr th:only-of-type {\n",
       "        vertical-align: middle;\n",
       "    }\n",
       "\n",
       "    .dataframe tbody tr th {\n",
       "        vertical-align: top;\n",
       "    }\n",
       "\n",
       "    .dataframe thead th {\n",
       "        text-align: right;\n",
       "    }\n",
       "</style>\n",
       "<table border=\"1\" class=\"dataframe\">\n",
       "  <thead>\n",
       "    <tr style=\"text-align: right;\">\n",
       "      <th></th>\n",
       "      <th>hash</th>\n",
       "      <th>nonce</th>\n",
       "      <th>transaction_index</th>\n",
       "      <th>from_address</th>\n",
       "      <th>to_address</th>\n",
       "      <th>value</th>\n",
       "      <th>gas</th>\n",
       "      <th>gas_price</th>\n",
       "      <th>input</th>\n",
       "      <th>receipt_cumulative_gas_used</th>\n",
       "      <th>...</th>\n",
       "      <th>block_number</th>\n",
       "      <th>block_hash</th>\n",
       "      <th>max_fee_per_gas</th>\n",
       "      <th>max_priority_fee_per_gas</th>\n",
       "      <th>transaction_type</th>\n",
       "      <th>receipt_effective_gas_price</th>\n",
       "      <th>max_fee_per_blob_gas</th>\n",
       "      <th>blob_versioned_hashes</th>\n",
       "      <th>receipt_blob_gas_price</th>\n",
       "      <th>receipt_blob_gas_used</th>\n",
       "    </tr>\n",
       "  </thead>\n",
       "  <tbody>\n",
       "    <tr>\n",
       "      <th>0</th>\n",
       "      <td>0xe762dd92f7a7bc16ee47188c4a2dfedc28202dad13c4...</td>\n",
       "      <td>57077</td>\n",
       "      <td>148</td>\n",
       "      <td>0xa83114a443da1cecefc50368531cace9f37fcccb</td>\n",
       "      <td>0x4675c7e5baafbffbca748158becba61ef3b0a263</td>\n",
       "      <td>2.027349e+17</td>\n",
       "      <td>21000</td>\n",
       "      <td>2357096623</td>\n",
       "      <td>0x</td>\n",
       "      <td>15889746</td>\n",
       "      <td>...</td>\n",
       "      <td>20390203</td>\n",
       "      <td>0x50251abb442a34c796c7d04515c5c5168eca258b0f64...</td>\n",
       "      <td>2.357097e+09</td>\n",
       "      <td>0.000000e+00</td>\n",
       "      <td>2</td>\n",
       "      <td>2357096623</td>\n",
       "      <td>NaN</td>\n",
       "      <td>[]</td>\n",
       "      <td>NaN</td>\n",
       "      <td>NaN</td>\n",
       "    </tr>\n",
       "    <tr>\n",
       "      <th>1</th>\n",
       "      <td>0x90cbf1652e6b93adff4b155bf843f59ecfb239c06340...</td>\n",
       "      <td>90</td>\n",
       "      <td>113</td>\n",
       "      <td>0xeb549edf318fcbbed23cb3dd2323449e401ebd3c</td>\n",
       "      <td>0xde8f22fbc53add5da02cf75616ac8f1eeda07c68</td>\n",
       "      <td>4.390000e+18</td>\n",
       "      <td>21000</td>\n",
       "      <td>2648096623</td>\n",
       "      <td>0x</td>\n",
       "      <td>13441387</td>\n",
       "      <td>...</td>\n",
       "      <td>20390203</td>\n",
       "      <td>0x50251abb442a34c796c7d04515c5c5168eca258b0f64...</td>\n",
       "      <td>3.817832e+09</td>\n",
       "      <td>2.910000e+08</td>\n",
       "      <td>2</td>\n",
       "      <td>2648096623</td>\n",
       "      <td>NaN</td>\n",
       "      <td>[]</td>\n",
       "      <td>NaN</td>\n",
       "      <td>NaN</td>\n",
       "    </tr>\n",
       "    <tr>\n",
       "      <th>2</th>\n",
       "      <td>0x58ce377546086d72e6a9ee83b9a2c09d820159e35b9e...</td>\n",
       "      <td>28</td>\n",
       "      <td>16</td>\n",
       "      <td>0x1225c2590a335b5dc20a67a07cf045245f463a4a</td>\n",
       "      <td>0xa5f565650890fba1824ee0f21ebbbf660a179934</td>\n",
       "      <td>7.798510e+14</td>\n",
       "      <td>49369</td>\n",
       "      <td>3847018376</td>\n",
       "      <td>0x02777bd5</td>\n",
       "      <td>921021</td>\n",
       "      <td>...</td>\n",
       "      <td>20390204</td>\n",
       "      <td>0x78fb6920b2a3d2578d9ba84be279f01a136f27e513f5...</td>\n",
       "      <td>3.873482e+09</td>\n",
       "      <td>1.472445e+09</td>\n",
       "      <td>2</td>\n",
       "      <td>3847018376</td>\n",
       "      <td>NaN</td>\n",
       "      <td>[]</td>\n",
       "      <td>NaN</td>\n",
       "      <td>NaN</td>\n",
       "    </tr>\n",
       "    <tr>\n",
       "      <th>3</th>\n",
       "      <td>0x2ebff83a86344dc821152c7be90ca36cca1cb1ecb042...</td>\n",
       "      <td>375</td>\n",
       "      <td>49</td>\n",
       "      <td>0xa0a93347c540860d2ffc4891906cd1b8c2ccb921</td>\n",
       "      <td>0xd37bbe5744d730a1d98d8dc97c42f0ca46ad7146</td>\n",
       "      <td>0.000000e+00</td>\n",
       "      <td>450000</td>\n",
       "      <td>4139045669</td>\n",
       "      <td>0x1b738b32000000000000000000000000d37bbe5744d7...</td>\n",
       "      <td>5412686</td>\n",
       "      <td>...</td>\n",
       "      <td>20390205</td>\n",
       "      <td>0x3dce7866de8d6bcbe2cf2decf41eeb9fa73880394f93...</td>\n",
       "      <td>1.000000e+10</td>\n",
       "      <td>2.000000e+09</td>\n",
       "      <td>2</td>\n",
       "      <td>4139045669</td>\n",
       "      <td>NaN</td>\n",
       "      <td>[]</td>\n",
       "      <td>NaN</td>\n",
       "      <td>NaN</td>\n",
       "    </tr>\n",
       "    <tr>\n",
       "      <th>4</th>\n",
       "      <td>0x45c1a3de70daccd2f2d767d89a3b60887444fcd8abbf...</td>\n",
       "      <td>0</td>\n",
       "      <td>9</td>\n",
       "      <td>0x0c9fdef04b350820c035174e7f755de7af169fc0</td>\n",
       "      <td>0x077d360f11d220e4d5d831430c81c26c9be7c4a4</td>\n",
       "      <td>1.563463e+16</td>\n",
       "      <td>22000</td>\n",
       "      <td>3000000000</td>\n",
       "      <td>0x</td>\n",
       "      <td>1384059</td>\n",
       "      <td>...</td>\n",
       "      <td>20390205</td>\n",
       "      <td>0x3dce7866de8d6bcbe2cf2decf41eeb9fa73880394f93...</td>\n",
       "      <td>NaN</td>\n",
       "      <td>NaN</td>\n",
       "      <td>0</td>\n",
       "      <td>3000000000</td>\n",
       "      <td>NaN</td>\n",
       "      <td>[]</td>\n",
       "      <td>NaN</td>\n",
       "      <td>NaN</td>\n",
       "    </tr>\n",
       "    <tr>\n",
       "      <th>...</th>\n",
       "      <td>...</td>\n",
       "      <td>...</td>\n",
       "      <td>...</td>\n",
       "      <td>...</td>\n",
       "      <td>...</td>\n",
       "      <td>...</td>\n",
       "      <td>...</td>\n",
       "      <td>...</td>\n",
       "      <td>...</td>\n",
       "      <td>...</td>\n",
       "      <td>...</td>\n",
       "      <td>...</td>\n",
       "      <td>...</td>\n",
       "      <td>...</td>\n",
       "      <td>...</td>\n",
       "      <td>...</td>\n",
       "      <td>...</td>\n",
       "      <td>...</td>\n",
       "      <td>...</td>\n",
       "      <td>...</td>\n",
       "      <td>...</td>\n",
       "    </tr>\n",
       "    <tr>\n",
       "      <th>99995</th>\n",
       "      <td>0x056ad81d0edbb64521b011d9e5d0d4188f6416f47886...</td>\n",
       "      <td>98</td>\n",
       "      <td>94</td>\n",
       "      <td>0xcee4011e2e90d65a94b2ac5ed596c9834a607767</td>\n",
       "      <td>0x3fc91a3afd70395cd496c647d5a6cc9d4b2b7fad</td>\n",
       "      <td>0.000000e+00</td>\n",
       "      <td>241011</td>\n",
       "      <td>2842724744</td>\n",
       "      <td>0x3593564c000000000000000000000000000000000000...</td>\n",
       "      <td>8325646</td>\n",
       "      <td>...</td>\n",
       "      <td>20302100</td>\n",
       "      <td>0x81d87f650570e14f6ccb94446142e5de15b010bc400e...</td>\n",
       "      <td>3.453106e+09</td>\n",
       "      <td>9.700000e+08</td>\n",
       "      <td>2</td>\n",
       "      <td>2842724744</td>\n",
       "      <td>NaN</td>\n",
       "      <td>[]</td>\n",
       "      <td>NaN</td>\n",
       "      <td>NaN</td>\n",
       "    </tr>\n",
       "    <tr>\n",
       "      <th>99996</th>\n",
       "      <td>0x6b321aecf9f7b7fdebba7850a6c499e6b14245d75974...</td>\n",
       "      <td>127</td>\n",
       "      <td>6</td>\n",
       "      <td>0x3a0e3aa2524adff222a57aa611fd62a31065ad34</td>\n",
       "      <td>0x7a250d5630b4cf539739df2c5dacb4c659f2488d</td>\n",
       "      <td>0.000000e+00</td>\n",
       "      <td>315324</td>\n",
       "      <td>8967031119</td>\n",
       "      <td>0x791ac947000000000000000000000000000000000000...</td>\n",
       "      <td>1128992</td>\n",
       "      <td>...</td>\n",
       "      <td>20302101</td>\n",
       "      <td>0xa2b5cd7d9ffab6f1911449d3798f01063612c6e62d19...</td>\n",
       "      <td>1.457000e+10</td>\n",
       "      <td>7.140000e+09</td>\n",
       "      <td>2</td>\n",
       "      <td>8967031119</td>\n",
       "      <td>NaN</td>\n",
       "      <td>[]</td>\n",
       "      <td>NaN</td>\n",
       "      <td>NaN</td>\n",
       "    </tr>\n",
       "    <tr>\n",
       "      <th>99997</th>\n",
       "      <td>0x9d326ec513a7ac96eb7ed54d32ba556b916be5a51cd2...</td>\n",
       "      <td>5</td>\n",
       "      <td>140</td>\n",
       "      <td>0x1db430f53d164e5a1fb431d66b7c2589b5a155c3</td>\n",
       "      <td>0xdac17f958d2ee523a2206206994597c13d831ec7</td>\n",
       "      <td>0.000000e+00</td>\n",
       "      <td>63507</td>\n",
       "      <td>1828031119</td>\n",
       "      <td>0xa9059cbb000000000000000000000000500b81835128...</td>\n",
       "      <td>16451783</td>\n",
       "      <td>...</td>\n",
       "      <td>20302101</td>\n",
       "      <td>0xa2b5cd7d9ffab6f1911449d3798f01063612c6e62d19...</td>\n",
       "      <td>2.157093e+09</td>\n",
       "      <td>1.000000e+06</td>\n",
       "      <td>2</td>\n",
       "      <td>1828031119</td>\n",
       "      <td>NaN</td>\n",
       "      <td>[]</td>\n",
       "      <td>NaN</td>\n",
       "      <td>NaN</td>\n",
       "    </tr>\n",
       "    <tr>\n",
       "      <th>99998</th>\n",
       "      <td>0x38fc31f95e0322c1ff38be61a0f775b028d600d9a5d7...</td>\n",
       "      <td>11</td>\n",
       "      <td>124</td>\n",
       "      <td>0x806633d9d0c353802a5309885ded1aa6f6e0e2e6</td>\n",
       "      <td>0x3fc91a3afd70395cd496c647d5a6cc9d4b2b7fad</td>\n",
       "      <td>0.000000e+00</td>\n",
       "      <td>274021</td>\n",
       "      <td>1828031119</td>\n",
       "      <td>0x3593564c000000000000000000000000000000000000...</td>\n",
       "      <td>14563342</td>\n",
       "      <td>...</td>\n",
       "      <td>20302101</td>\n",
       "      <td>0xa2b5cd7d9ffab6f1911449d3798f01063612c6e62d19...</td>\n",
       "      <td>2.009208e+09</td>\n",
       "      <td>1.000000e+06</td>\n",
       "      <td>2</td>\n",
       "      <td>1828031119</td>\n",
       "      <td>NaN</td>\n",
       "      <td>[]</td>\n",
       "      <td>NaN</td>\n",
       "      <td>NaN</td>\n",
       "    </tr>\n",
       "    <tr>\n",
       "      <th>99999</th>\n",
       "      <td>0xfd914eb222171b30eda4ce6fee899e769710866e5251...</td>\n",
       "      <td>69</td>\n",
       "      <td>39</td>\n",
       "      <td>0x6e4ca415040a270a1e03c2ea6cc0c2b531de5d12</td>\n",
       "      <td>0xf3de3c0d654fda23dad170f0f320a92172509127</td>\n",
       "      <td>0.000000e+00</td>\n",
       "      <td>244850</td>\n",
       "      <td>2809738399</td>\n",
       "      <td>0x9871efa40000000000000000000000008802269d1283...</td>\n",
       "      <td>7101117</td>\n",
       "      <td>...</td>\n",
       "      <td>20302101</td>\n",
       "      <td>0xa2b5cd7d9ffab6f1911449d3798f01063612c6e62d19...</td>\n",
       "      <td>2.990287e+09</td>\n",
       "      <td>9.827073e+08</td>\n",
       "      <td>2</td>\n",
       "      <td>2809738399</td>\n",
       "      <td>NaN</td>\n",
       "      <td>[]</td>\n",
       "      <td>NaN</td>\n",
       "      <td>NaN</td>\n",
       "    </tr>\n",
       "  </tbody>\n",
       "</table>\n",
       "<p>100000 rows × 25 columns</p>\n",
       "</div>"
      ],
      "text/plain": [
       "                                                    hash  nonce  \\\n",
       "0      0xe762dd92f7a7bc16ee47188c4a2dfedc28202dad13c4...  57077   \n",
       "1      0x90cbf1652e6b93adff4b155bf843f59ecfb239c06340...     90   \n",
       "2      0x58ce377546086d72e6a9ee83b9a2c09d820159e35b9e...     28   \n",
       "3      0x2ebff83a86344dc821152c7be90ca36cca1cb1ecb042...    375   \n",
       "4      0x45c1a3de70daccd2f2d767d89a3b60887444fcd8abbf...      0   \n",
       "...                                                  ...    ...   \n",
       "99995  0x056ad81d0edbb64521b011d9e5d0d4188f6416f47886...     98   \n",
       "99996  0x6b321aecf9f7b7fdebba7850a6c499e6b14245d75974...    127   \n",
       "99997  0x9d326ec513a7ac96eb7ed54d32ba556b916be5a51cd2...      5   \n",
       "99998  0x38fc31f95e0322c1ff38be61a0f775b028d600d9a5d7...     11   \n",
       "99999  0xfd914eb222171b30eda4ce6fee899e769710866e5251...     69   \n",
       "\n",
       "       transaction_index                                from_address  \\\n",
       "0                    148  0xa83114a443da1cecefc50368531cace9f37fcccb   \n",
       "1                    113  0xeb549edf318fcbbed23cb3dd2323449e401ebd3c   \n",
       "2                     16  0x1225c2590a335b5dc20a67a07cf045245f463a4a   \n",
       "3                     49  0xa0a93347c540860d2ffc4891906cd1b8c2ccb921   \n",
       "4                      9  0x0c9fdef04b350820c035174e7f755de7af169fc0   \n",
       "...                  ...                                         ...   \n",
       "99995                 94  0xcee4011e2e90d65a94b2ac5ed596c9834a607767   \n",
       "99996                  6  0x3a0e3aa2524adff222a57aa611fd62a31065ad34   \n",
       "99997                140  0x1db430f53d164e5a1fb431d66b7c2589b5a155c3   \n",
       "99998                124  0x806633d9d0c353802a5309885ded1aa6f6e0e2e6   \n",
       "99999                 39  0x6e4ca415040a270a1e03c2ea6cc0c2b531de5d12   \n",
       "\n",
       "                                       to_address         value     gas  \\\n",
       "0      0x4675c7e5baafbffbca748158becba61ef3b0a263  2.027349e+17   21000   \n",
       "1      0xde8f22fbc53add5da02cf75616ac8f1eeda07c68  4.390000e+18   21000   \n",
       "2      0xa5f565650890fba1824ee0f21ebbbf660a179934  7.798510e+14   49369   \n",
       "3      0xd37bbe5744d730a1d98d8dc97c42f0ca46ad7146  0.000000e+00  450000   \n",
       "4      0x077d360f11d220e4d5d831430c81c26c9be7c4a4  1.563463e+16   22000   \n",
       "...                                           ...           ...     ...   \n",
       "99995  0x3fc91a3afd70395cd496c647d5a6cc9d4b2b7fad  0.000000e+00  241011   \n",
       "99996  0x7a250d5630b4cf539739df2c5dacb4c659f2488d  0.000000e+00  315324   \n",
       "99997  0xdac17f958d2ee523a2206206994597c13d831ec7  0.000000e+00   63507   \n",
       "99998  0x3fc91a3afd70395cd496c647d5a6cc9d4b2b7fad  0.000000e+00  274021   \n",
       "99999  0xf3de3c0d654fda23dad170f0f320a92172509127  0.000000e+00  244850   \n",
       "\n",
       "        gas_price                                              input  \\\n",
       "0      2357096623                                                 0x   \n",
       "1      2648096623                                                 0x   \n",
       "2      3847018376                                         0x02777bd5   \n",
       "3      4139045669  0x1b738b32000000000000000000000000d37bbe5744d7...   \n",
       "4      3000000000                                                 0x   \n",
       "...           ...                                                ...   \n",
       "99995  2842724744  0x3593564c000000000000000000000000000000000000...   \n",
       "99996  8967031119  0x791ac947000000000000000000000000000000000000...   \n",
       "99997  1828031119  0xa9059cbb000000000000000000000000500b81835128...   \n",
       "99998  1828031119  0x3593564c000000000000000000000000000000000000...   \n",
       "99999  2809738399  0x9871efa40000000000000000000000008802269d1283...   \n",
       "\n",
       "       receipt_cumulative_gas_used  ...  block_number  \\\n",
       "0                         15889746  ...      20390203   \n",
       "1                         13441387  ...      20390203   \n",
       "2                           921021  ...      20390204   \n",
       "3                          5412686  ...      20390205   \n",
       "4                          1384059  ...      20390205   \n",
       "...                            ...  ...           ...   \n",
       "99995                      8325646  ...      20302100   \n",
       "99996                      1128992  ...      20302101   \n",
       "99997                     16451783  ...      20302101   \n",
       "99998                     14563342  ...      20302101   \n",
       "99999                      7101117  ...      20302101   \n",
       "\n",
       "                                              block_hash  max_fee_per_gas  \\\n",
       "0      0x50251abb442a34c796c7d04515c5c5168eca258b0f64...     2.357097e+09   \n",
       "1      0x50251abb442a34c796c7d04515c5c5168eca258b0f64...     3.817832e+09   \n",
       "2      0x78fb6920b2a3d2578d9ba84be279f01a136f27e513f5...     3.873482e+09   \n",
       "3      0x3dce7866de8d6bcbe2cf2decf41eeb9fa73880394f93...     1.000000e+10   \n",
       "4      0x3dce7866de8d6bcbe2cf2decf41eeb9fa73880394f93...              NaN   \n",
       "...                                                  ...              ...   \n",
       "99995  0x81d87f650570e14f6ccb94446142e5de15b010bc400e...     3.453106e+09   \n",
       "99996  0xa2b5cd7d9ffab6f1911449d3798f01063612c6e62d19...     1.457000e+10   \n",
       "99997  0xa2b5cd7d9ffab6f1911449d3798f01063612c6e62d19...     2.157093e+09   \n",
       "99998  0xa2b5cd7d9ffab6f1911449d3798f01063612c6e62d19...     2.009208e+09   \n",
       "99999  0xa2b5cd7d9ffab6f1911449d3798f01063612c6e62d19...     2.990287e+09   \n",
       "\n",
       "       max_priority_fee_per_gas transaction_type  receipt_effective_gas_price  \\\n",
       "0                  0.000000e+00                2                   2357096623   \n",
       "1                  2.910000e+08                2                   2648096623   \n",
       "2                  1.472445e+09                2                   3847018376   \n",
       "3                  2.000000e+09                2                   4139045669   \n",
       "4                           NaN                0                   3000000000   \n",
       "...                         ...              ...                          ...   \n",
       "99995              9.700000e+08                2                   2842724744   \n",
       "99996              7.140000e+09                2                   8967031119   \n",
       "99997              1.000000e+06                2                   1828031119   \n",
       "99998              1.000000e+06                2                   1828031119   \n",
       "99999              9.827073e+08                2                   2809738399   \n",
       "\n",
       "      max_fee_per_blob_gas  blob_versioned_hashes  receipt_blob_gas_price  \\\n",
       "0                      NaN                     []                     NaN   \n",
       "1                      NaN                     []                     NaN   \n",
       "2                      NaN                     []                     NaN   \n",
       "3                      NaN                     []                     NaN   \n",
       "4                      NaN                     []                     NaN   \n",
       "...                    ...                    ...                     ...   \n",
       "99995                  NaN                     []                     NaN   \n",
       "99996                  NaN                     []                     NaN   \n",
       "99997                  NaN                     []                     NaN   \n",
       "99998                  NaN                     []                     NaN   \n",
       "99999                  NaN                     []                     NaN   \n",
       "\n",
       "       receipt_blob_gas_used  \n",
       "0                        NaN  \n",
       "1                        NaN  \n",
       "2                        NaN  \n",
       "3                        NaN  \n",
       "4                        NaN  \n",
       "...                      ...  \n",
       "99995                    NaN  \n",
       "99996                    NaN  \n",
       "99997                    NaN  \n",
       "99998                    NaN  \n",
       "99999                    NaN  \n",
       "\n",
       "[100000 rows x 25 columns]"
      ]
     },
     "execution_count": 4,
     "metadata": {},
     "output_type": "execute_result"
    }
   ],
   "source": [
    "# Load the data\n",
    "data = pd.read_csv(TRAIN_DIRECTORY)\n",
    "data"
   ]
  },
  {
   "cell_type": "code",
   "execution_count": 5,
   "metadata": {},
   "outputs": [],
   "source": [
    "# | **Column Name**                    | **Description**                                                                                               |\n",
    "# |------------------------------------|---------------------------------------------------------------------------------------------------------------|\n",
    "# | 7. `gas`                           | The maximum amount of gas that the sender is willing to pay for the transaction to be executed.               |\n",
    "# | 8. `gas_price`                     | The price per unit of gas in Wei that the sender is willing to pay.                                           |\n",
    "# | 15. `block_timestamp`              | The timestamp of the block, indicating when the block was mined.                                              |\n",
    "# | 18. `max_fee_per_gas`              | The maximum fee per unit of gas that the sender is willing to pay (includes both base fee and priority fee).  |\n",
    "# | 19. `max_priority_fee_per_gas`     | The maximum priority fee per unit of gas that the sender is willing to pay to expedite the transaction.       |\n",
    "# | 21. `receipt_effective_gas_price`  | The effective gas price paid for the transaction, taking into account the current base fee and priority fee.  |\n"
   ]
  },
  {
   "cell_type": "code",
   "execution_count": 6,
   "metadata": {},
   "outputs": [],
   "source": [
    "# We analyze and understand that we only need 6 columns\n",
    "df = data[[\"gas\", \"max_fee_per_gas\", \"max_priority_fee_per_gas\", \"receipt_effective_gas_price\", \"block_timestamp\", \"gas_price\",]]"
   ]
  },
  {
   "cell_type": "code",
   "execution_count": 7,
   "metadata": {},
   "outputs": [
    {
     "data": {
      "text/html": [
       "<div>\n",
       "<style scoped>\n",
       "    .dataframe tbody tr th:only-of-type {\n",
       "        vertical-align: middle;\n",
       "    }\n",
       "\n",
       "    .dataframe tbody tr th {\n",
       "        vertical-align: top;\n",
       "    }\n",
       "\n",
       "    .dataframe thead th {\n",
       "        text-align: right;\n",
       "    }\n",
       "</style>\n",
       "<table border=\"1\" class=\"dataframe\">\n",
       "  <thead>\n",
       "    <tr style=\"text-align: right;\">\n",
       "      <th></th>\n",
       "      <th>gas</th>\n",
       "      <th>max_fee_per_gas</th>\n",
       "      <th>max_priority_fee_per_gas</th>\n",
       "      <th>receipt_effective_gas_price</th>\n",
       "      <th>block_timestamp</th>\n",
       "      <th>gas_price</th>\n",
       "    </tr>\n",
       "  </thead>\n",
       "  <tbody>\n",
       "    <tr>\n",
       "      <th>0</th>\n",
       "      <td>21000</td>\n",
       "      <td>2.357097e+09</td>\n",
       "      <td>0.000000e+00</td>\n",
       "      <td>2357096623</td>\n",
       "      <td>2024-07-26 10:43:35+00:00</td>\n",
       "      <td>2357096623</td>\n",
       "    </tr>\n",
       "    <tr>\n",
       "      <th>1</th>\n",
       "      <td>21000</td>\n",
       "      <td>3.817832e+09</td>\n",
       "      <td>2.910000e+08</td>\n",
       "      <td>2648096623</td>\n",
       "      <td>2024-07-26 10:43:35+00:00</td>\n",
       "      <td>2648096623</td>\n",
       "    </tr>\n",
       "    <tr>\n",
       "      <th>2</th>\n",
       "      <td>49369</td>\n",
       "      <td>3.873482e+09</td>\n",
       "      <td>1.472445e+09</td>\n",
       "      <td>3847018376</td>\n",
       "      <td>2024-07-26 10:43:47+00:00</td>\n",
       "      <td>3847018376</td>\n",
       "    </tr>\n",
       "    <tr>\n",
       "      <th>3</th>\n",
       "      <td>450000</td>\n",
       "      <td>1.000000e+10</td>\n",
       "      <td>2.000000e+09</td>\n",
       "      <td>4139045669</td>\n",
       "      <td>2024-07-26 10:43:59+00:00</td>\n",
       "      <td>4139045669</td>\n",
       "    </tr>\n",
       "    <tr>\n",
       "      <th>4</th>\n",
       "      <td>22000</td>\n",
       "      <td>NaN</td>\n",
       "      <td>NaN</td>\n",
       "      <td>3000000000</td>\n",
       "      <td>2024-07-26 10:43:59+00:00</td>\n",
       "      <td>3000000000</td>\n",
       "    </tr>\n",
       "  </tbody>\n",
       "</table>\n",
       "</div>"
      ],
      "text/plain": [
       "      gas  max_fee_per_gas  max_priority_fee_per_gas  \\\n",
       "0   21000     2.357097e+09              0.000000e+00   \n",
       "1   21000     3.817832e+09              2.910000e+08   \n",
       "2   49369     3.873482e+09              1.472445e+09   \n",
       "3  450000     1.000000e+10              2.000000e+09   \n",
       "4   22000              NaN                       NaN   \n",
       "\n",
       "   receipt_effective_gas_price            block_timestamp   gas_price  \n",
       "0                   2357096623  2024-07-26 10:43:35+00:00  2357096623  \n",
       "1                   2648096623  2024-07-26 10:43:35+00:00  2648096623  \n",
       "2                   3847018376  2024-07-26 10:43:47+00:00  3847018376  \n",
       "3                   4139045669  2024-07-26 10:43:59+00:00  4139045669  \n",
       "4                   3000000000  2024-07-26 10:43:59+00:00  3000000000  "
      ]
     },
     "execution_count": 7,
     "metadata": {},
     "output_type": "execute_result"
    }
   ],
   "source": [
    "# View the first few rows\n",
    "df.head()"
   ]
  },
  {
   "cell_type": "code",
   "execution_count": 8,
   "metadata": {},
   "outputs": [
    {
     "data": {
      "text/plain": [
       "(100000, 6)"
      ]
     },
     "execution_count": 8,
     "metadata": {},
     "output_type": "execute_result"
    }
   ],
   "source": [
    "# We see information about the dimension of our dataframe\n",
    "df.shape "
   ]
  },
  {
   "cell_type": "code",
   "execution_count": 9,
   "metadata": {},
   "outputs": [
    {
     "name": "stdout",
     "output_type": "stream",
     "text": [
      "<class 'pandas.core.frame.DataFrame'>\n",
      "RangeIndex: 100000 entries, 0 to 99999\n",
      "Data columns (total 6 columns):\n",
      " #   Column                       Non-Null Count   Dtype  \n",
      "---  ------                       --------------   -----  \n",
      " 0   gas                          100000 non-null  int64  \n",
      " 1   max_fee_per_gas              95858 non-null   float64\n",
      " 2   max_priority_fee_per_gas     95858 non-null   float64\n",
      " 3   receipt_effective_gas_price  100000 non-null  int64  \n",
      " 4   block_timestamp              100000 non-null  object \n",
      " 5   gas_price                    100000 non-null  int64  \n",
      "dtypes: float64(2), int64(3), object(1)\n",
      "memory usage: 4.6+ MB\n"
     ]
    }
   ],
   "source": [
    "# Information about the dataset\n",
    "df.info()"
   ]
  },
  {
   "cell_type": "code",
   "execution_count": 10,
   "metadata": {},
   "outputs": [
    {
     "data": {
      "text/html": [
       "<div>\n",
       "<style scoped>\n",
       "    .dataframe tbody tr th:only-of-type {\n",
       "        vertical-align: middle;\n",
       "    }\n",
       "\n",
       "    .dataframe tbody tr th {\n",
       "        vertical-align: top;\n",
       "    }\n",
       "\n",
       "    .dataframe thead th {\n",
       "        text-align: right;\n",
       "    }\n",
       "</style>\n",
       "<table border=\"1\" class=\"dataframe\">\n",
       "  <thead>\n",
       "    <tr style=\"text-align: right;\">\n",
       "      <th></th>\n",
       "      <th>gas</th>\n",
       "      <th>max_fee_per_gas</th>\n",
       "      <th>max_priority_fee_per_gas</th>\n",
       "      <th>receipt_effective_gas_price</th>\n",
       "      <th>gas_price</th>\n",
       "    </tr>\n",
       "  </thead>\n",
       "  <tbody>\n",
       "    <tr>\n",
       "      <th>count</th>\n",
       "      <td>1.000000e+05</td>\n",
       "      <td>9.585800e+04</td>\n",
       "      <td>9.585800e+04</td>\n",
       "      <td>1.000000e+05</td>\n",
       "      <td>1.000000e+05</td>\n",
       "    </tr>\n",
       "    <tr>\n",
       "      <th>mean</th>\n",
       "      <td>2.370734e+05</td>\n",
       "      <td>2.164203e+10</td>\n",
       "      <td>3.070349e+09</td>\n",
       "      <td>1.025560e+10</td>\n",
       "      <td>1.025560e+10</td>\n",
       "    </tr>\n",
       "    <tr>\n",
       "      <th>std</th>\n",
       "      <td>7.228919e+05</td>\n",
       "      <td>9.435149e+10</td>\n",
       "      <td>6.978934e+10</td>\n",
       "      <td>6.849728e+10</td>\n",
       "      <td>6.849728e+10</td>\n",
       "    </tr>\n",
       "    <tr>\n",
       "      <th>min</th>\n",
       "      <td>2.100000e+04</td>\n",
       "      <td>1.258426e+09</td>\n",
       "      <td>0.000000e+00</td>\n",
       "      <td>1.258426e+09</td>\n",
       "      <td>1.258426e+09</td>\n",
       "    </tr>\n",
       "    <tr>\n",
       "      <th>25%</th>\n",
       "      <td>3.180600e+04</td>\n",
       "      <td>4.453688e+09</td>\n",
       "      <td>4.703962e+07</td>\n",
       "      <td>3.320239e+09</td>\n",
       "      <td>3.320239e+09</td>\n",
       "    </tr>\n",
       "    <tr>\n",
       "      <th>50%</th>\n",
       "      <td>9.456100e+04</td>\n",
       "      <td>1.148593e+10</td>\n",
       "      <td>5.000000e+08</td>\n",
       "      <td>6.339680e+09</td>\n",
       "      <td>6.339680e+09</td>\n",
       "    </tr>\n",
       "    <tr>\n",
       "      <th>75%</th>\n",
       "      <td>2.445075e+05</td>\n",
       "      <td>1.879395e+10</td>\n",
       "      <td>2.000000e+09</td>\n",
       "      <td>1.271655e+10</td>\n",
       "      <td>1.271655e+10</td>\n",
       "    </tr>\n",
       "    <tr>\n",
       "      <th>max</th>\n",
       "      <td>2.850000e+07</td>\n",
       "      <td>2.001124e+13</td>\n",
       "      <td>2.000000e+13</td>\n",
       "      <td>2.001124e+13</td>\n",
       "      <td>2.001124e+13</td>\n",
       "    </tr>\n",
       "  </tbody>\n",
       "</table>\n",
       "</div>"
      ],
      "text/plain": [
       "                gas  max_fee_per_gas  max_priority_fee_per_gas  \\\n",
       "count  1.000000e+05     9.585800e+04              9.585800e+04   \n",
       "mean   2.370734e+05     2.164203e+10              3.070349e+09   \n",
       "std    7.228919e+05     9.435149e+10              6.978934e+10   \n",
       "min    2.100000e+04     1.258426e+09              0.000000e+00   \n",
       "25%    3.180600e+04     4.453688e+09              4.703962e+07   \n",
       "50%    9.456100e+04     1.148593e+10              5.000000e+08   \n",
       "75%    2.445075e+05     1.879395e+10              2.000000e+09   \n",
       "max    2.850000e+07     2.001124e+13              2.000000e+13   \n",
       "\n",
       "       receipt_effective_gas_price     gas_price  \n",
       "count                 1.000000e+05  1.000000e+05  \n",
       "mean                  1.025560e+10  1.025560e+10  \n",
       "std                   6.849728e+10  6.849728e+10  \n",
       "min                   1.258426e+09  1.258426e+09  \n",
       "25%                   3.320239e+09  3.320239e+09  \n",
       "50%                   6.339680e+09  6.339680e+09  \n",
       "75%                   1.271655e+10  1.271655e+10  \n",
       "max                   2.001124e+13  2.001124e+13  "
      ]
     },
     "execution_count": 10,
     "metadata": {},
     "output_type": "execute_result"
    }
   ],
   "source": [
    "# Statistics for numerical data\n",
    "df.describe()"
   ]
  },
  {
   "cell_type": "code",
   "execution_count": 11,
   "metadata": {},
   "outputs": [
    {
     "data": {
      "text/plain": [
       "gas                            36617\n",
       "max_fee_per_gas                51233\n",
       "max_priority_fee_per_gas       14174\n",
       "receipt_effective_gas_price    54029\n",
       "block_timestamp                 6328\n",
       "gas_price                      54029\n",
       "dtype: int64"
      ]
     },
     "execution_count": 11,
     "metadata": {},
     "output_type": "execute_result"
    }
   ],
   "source": [
    "# the number of unique values for each column\n",
    "df.nunique() "
   ]
  },
  {
   "cell_type": "markdown",
   "metadata": {},
   "source": [
    "Our code performs a number of tasks to explore the source data. It provides a brief overview of a dataset by displaying the first few rows, analyzing its size and structure, generating descriptive statistics for numerical characteristics, and determining the number of unique values in each column. As we can see, we have huge numbers and there are also missing data."
   ]
  },
  {
   "cell_type": "markdown",
   "metadata": {},
   "source": [
    "### 1.2. Perform basic data cleaning, including handling missing values and removing duplicates"
   ]
  },
  {
   "cell_type": "code",
   "execution_count": 12,
   "metadata": {},
   "outputs": [
    {
     "data": {
      "text/plain": [
       "gas                               0\n",
       "max_fee_per_gas                4142\n",
       "max_priority_fee_per_gas       4142\n",
       "receipt_effective_gas_price       0\n",
       "block_timestamp                   0\n",
       "gas_price                         0\n",
       "dtype: int64"
      ]
     },
     "execution_count": 12,
     "metadata": {},
     "output_type": "execute_result"
    }
   ],
   "source": [
    "# Check for missing values\n",
    "df.isnull().sum()"
   ]
  },
  {
   "cell_type": "code",
   "execution_count": 13,
   "metadata": {},
   "outputs": [
    {
     "data": {
      "text/plain": [
       "False    92297\n",
       "True      7703\n",
       "Name: count, dtype: int64"
      ]
     },
     "execution_count": 13,
     "metadata": {},
     "output_type": "execute_result"
    }
   ],
   "source": [
    "# Check for duplicates and non-dublicates\n",
    "df.duplicated().value_counts()"
   ]
  },
  {
   "cell_type": "code",
   "execution_count": 14,
   "metadata": {},
   "outputs": [],
   "source": [
    "# Remove duplicates\n",
    "df = df.drop_duplicates()"
   ]
  },
  {
   "cell_type": "code",
   "execution_count": 15,
   "metadata": {},
   "outputs": [],
   "source": [
    "# replacing all missing values with mean values\n",
    "numeric_columns = df.select_dtypes(include=[np.number]).columns # select only numeric columns\n",
    "df[numeric_columns] = df[numeric_columns].fillna(df[numeric_columns].mean())"
   ]
  },
  {
   "cell_type": "code",
   "execution_count": 16,
   "metadata": {},
   "outputs": [],
   "source": [
    "# Rename block_timestamp in date\n",
    "df = df.rename(columns={\"block_timestamp\": \"date\"}) \n",
    "# Rename gas in gas_Value\n",
    "df = df.rename(columns={\"gas\": \"gas_value\"}) "
   ]
  },
  {
   "cell_type": "code",
   "execution_count": 17,
   "metadata": {},
   "outputs": [],
   "source": [
    "# Converting a date to a normal format\n",
    "df[\"date\"] = pd.to_datetime(df[\"date\"])"
   ]
  },
  {
   "cell_type": "code",
   "execution_count": 18,
   "metadata": {},
   "outputs": [
    {
     "data": {
      "text/plain": [
       "0   2024-07-26 10:43:35+00:00\n",
       "1   2024-07-26 10:43:35+00:00\n",
       "2   2024-07-26 10:43:47+00:00\n",
       "Name: date, dtype: datetime64[ns, UTC]"
      ]
     },
     "execution_count": 18,
     "metadata": {},
     "output_type": "execute_result"
    }
   ],
   "source": [
    "# Lets make sure that the conversion was successful\n",
    "df[\"date\"].head(3)"
   ]
  },
  {
   "cell_type": "code",
   "execution_count": 19,
   "metadata": {},
   "outputs": [],
   "source": [
    "# Transformation wei in gwei. So that everything is in the same currency\n",
    "def wei_to_gwei(wei):\n",
    "    return wei / 1e9"
   ]
  },
  {
   "cell_type": "code",
   "execution_count": 20,
   "metadata": {},
   "outputs": [],
   "source": [
    "# We apply the conversion to the columns so that everything is in the same price format and one type\n",
    "df[\"max_fee_per_gas\"] = df[\"max_fee_per_gas\"].apply(wei_to_gwei).astype(float)\n",
    "df[\"max_priority_fee_per_gas\"] = df[\"max_priority_fee_per_gas\"].apply(wei_to_gwei).astype(float)\n",
    "df[\"receipt_effective_gas_price\"] = df[\"receipt_effective_gas_price\"].apply(wei_to_gwei).astype(float)"
   ]
  },
  {
   "cell_type": "markdown",
   "metadata": {},
   "source": [
    "Renaming and converting all columns to the correct types allows you to improve readability and continue working with columns. As for the currency, it is better to convert the entire currency to one type in order to prevent the appearance of numbers such as 4.703962e+07"
   ]
  },
  {
   "cell_type": "code",
   "execution_count": 21,
   "metadata": {},
   "outputs": [
    {
     "data": {
      "text/plain": [
       "1739"
      ]
     },
     "execution_count": 21,
     "metadata": {},
     "output_type": "execute_result"
    }
   ],
   "source": [
    "numerical_columns = df.select_dtypes(include=[\"float64\", \"int64\"]).columns\n",
    "\n",
    "# set for indexes\n",
    "anomal_indices = set()\n",
    "\n",
    "for column in numerical_columns:\n",
    "    z_scores = stats.zscore(df[column])\n",
    "    column_anomalies = df[abs(z_scores) > 3].index\n",
    "    anomal_indices.update(column_anomalies)\n",
    "\n",
    "# Removing rows with anomalies from df\n",
    "df.drop(anomal_indices, inplace=True)\n",
    "\n",
    "# len \n",
    "len(anomal_indices)"
   ]
  },
  {
   "cell_type": "markdown",
   "metadata": {},
   "source": [
    "Anomaly detection is crucial in machine learning for maintaining data quality by identifying and removing errors or outliers that could distort analysis. It helps improve the accuracy and reliability of models by ensuring that the data used for training and evaluation is clean and representative of typical conditions. By detecting deviations from expected patterns, anomaly detection also supports robust decision-making and enhances the overall performance of machine learning systems."
   ]
  },
  {
   "cell_type": "code",
   "execution_count": 22,
   "metadata": {},
   "outputs": [],
   "source": [
    "# Create label. label = y\n",
    "label = df.loc[:, \"gas_price\"].apply(wei_to_gwei).astype(float)"
   ]
  },
  {
   "cell_type": "code",
   "execution_count": 23,
   "metadata": {},
   "outputs": [],
   "source": [
    "# Making sure that the indexes in df and label match\n",
    "df, label = df.align(label, join=\"inner\", axis=0)"
   ]
  },
  {
   "cell_type": "markdown",
   "metadata": {},
   "source": [
    "### 1.3. Generate summary statistics and visualize the distributions of key features"
   ]
  },
  {
   "cell_type": "code",
   "execution_count": 24,
   "metadata": {},
   "outputs": [],
   "source": [
    "# Key features\n",
    "key_features = [\"gas_value\", \"max_fee_per_gas\", \"max_priority_fee_per_gas\", \"receipt_effective_gas_price\", \"gas_price\"]"
   ]
  },
  {
   "cell_type": "code",
   "execution_count": 25,
   "metadata": {},
   "outputs": [
    {
     "data": {
      "image/png": "[encoded data removed]",
      "text/plain": [
       "<Figure size 1000x1000 with 5 Axes>"
      ]
     },
     "metadata": {},
     "output_type": "display_data"
    }
   ],
   "source": [
    "# Boxplot for key features\n",
    "plt.figure(figsize=(10, 10))\n",
    "\n",
    "for i, feature in enumerate(key_features, 1):\n",
    "    plt.subplot(3, 2, i)\n",
    "    sns.boxplot(x=df[feature])\n",
    "    plt.title(f\"Box Plot {feature}\")\n",
    "    plt.xlabel(feature)\n",
    "\n",
    "plt.tight_layout()\n",
    "plt.show()"
   ]
  },
  {
   "cell_type": "markdown",
   "metadata": {},
   "source": [
    "In general, after clearing the data, you observe a normalized distribution of indicators, which should more accurately reflect real trends and variations in gas consumption and related costs."
   ]
  },
  {
   "cell_type": "code",
   "execution_count": 26,
   "metadata": {},
   "outputs": [
    {
     "data": {
      "image/png": "[encoded data removed]",
      "text/plain": [
       "<Figure size 1000x1000 with 2 Axes>"
      ]
     },
     "metadata": {},
     "output_type": "display_data"
    }
   ],
   "source": [
    "# Correlation matrix\n",
    "plt.figure(figsize=(10, 10))\n",
    "correlation_matrix = df[key_features].corr()\n",
    "sns.heatmap(correlation_matrix, annot=True, cmap=\"coolwarm\")\n",
    "plt.title(\"Correlation Matrix\")\n",
    "plt.show()"
   ]
  },
  {
   "cell_type": "markdown",
   "metadata": {},
   "source": [
    "### Conclusion:\n",
    "**_max_priority_fee_per_gas_** and **_receipt_effective_gas_price_**, as well as **_gas_price_**, show a high correlation with each other. This may indicate that these variables are related and likely change together.\n",
    "\n",
    "**_max_fee_per_gas_** has a weak positive correlation with other variables, but the relationship is not strong.\n",
    "\n",
    "**_gas_value_** has a very weak connection with other variables, indicating that changes in **_gas_value_** have little to no effect on other variables in your dataset.\n"
   ]
  },
  {
   "cell_type": "markdown",
   "metadata": {},
   "source": [
    "# 2. Feature Engineering"
   ]
  },
  {
   "cell_type": "markdown",
   "metadata": {},
   "source": [
    "### 2.1. Create new features that may be useful for predicting gas prices"
   ]
  },
  {
   "cell_type": "markdown",
   "metadata": {},
   "source": [
    "- Gas prices may depend on the time of day due to changes in user activity. Gas is usually cheaper at night than during the day. \n",
    "- It is used more on weekdays.\n",
    "- In the winter months, it is consumed more."
   ]
  },
  {
   "cell_type": "code",
   "execution_count": 27,
   "metadata": {},
   "outputs": [],
   "source": [
    "# Adding weights for hours, day, day of month and month weigth. + i add months weigth because assuming higher gas prices in winter. \n",
    "df[\"hour\"] = df[\"date\"].dt.hour\n",
    "df[\"day_of_week\"] = df[\"date\"].dt.dayofweek\n",
    "df[\"day_of_month\"] = df[\"date\"].dt.day\n",
    "df[\"month\"] = df[\"date\"].dt.month\n",
    "df[\"month_weight\"] = np.where(df[\"month\"].isin([12, 1, 2]), 1.5, 1) # Normal month 1 - in winter 1.5"
   ]
  },
  {
   "cell_type": "code",
   "execution_count": 28,
   "metadata": {},
   "outputs": [],
   "source": [
    "# Deleting unnecessary columns\n",
    "df = df.drop([\"date\", \"gas_price\"], axis=1)"
   ]
  },
  {
   "cell_type": "code",
   "execution_count": 29,
   "metadata": {},
   "outputs": [
    {
     "data": {
      "text/html": [
       "<div>\n",
       "<style scoped>\n",
       "    .dataframe tbody tr th:only-of-type {\n",
       "        vertical-align: middle;\n",
       "    }\n",
       "\n",
       "    .dataframe tbody tr th {\n",
       "        vertical-align: top;\n",
       "    }\n",
       "\n",
       "    .dataframe thead th {\n",
       "        text-align: right;\n",
       "    }\n",
       "</style>\n",
       "<table border=\"1\" class=\"dataframe\">\n",
       "  <thead>\n",
       "    <tr style=\"text-align: right;\">\n",
       "      <th></th>\n",
       "      <th>gas_value</th>\n",
       "      <th>max_fee_per_gas</th>\n",
       "      <th>max_priority_fee_per_gas</th>\n",
       "      <th>receipt_effective_gas_price</th>\n",
       "      <th>hour</th>\n",
       "      <th>day_of_week</th>\n",
       "      <th>day_of_month</th>\n",
       "      <th>month</th>\n",
       "      <th>month_weight</th>\n",
       "    </tr>\n",
       "  </thead>\n",
       "  <tbody>\n",
       "    <tr>\n",
       "      <th>0</th>\n",
       "      <td>21000</td>\n",
       "      <td>2.357097</td>\n",
       "      <td>0.000000</td>\n",
       "      <td>2.357097</td>\n",
       "      <td>10</td>\n",
       "      <td>4</td>\n",
       "      <td>26</td>\n",
       "      <td>7</td>\n",
       "      <td>1.0</td>\n",
       "    </tr>\n",
       "    <tr>\n",
       "      <th>1</th>\n",
       "      <td>21000</td>\n",
       "      <td>3.817832</td>\n",
       "      <td>0.291000</td>\n",
       "      <td>2.648097</td>\n",
       "      <td>10</td>\n",
       "      <td>4</td>\n",
       "      <td>26</td>\n",
       "      <td>7</td>\n",
       "      <td>1.0</td>\n",
       "    </tr>\n",
       "    <tr>\n",
       "      <th>2</th>\n",
       "      <td>49369</td>\n",
       "      <td>3.873482</td>\n",
       "      <td>1.472445</td>\n",
       "      <td>3.847018</td>\n",
       "      <td>10</td>\n",
       "      <td>4</td>\n",
       "      <td>26</td>\n",
       "      <td>7</td>\n",
       "      <td>1.0</td>\n",
       "    </tr>\n",
       "    <tr>\n",
       "      <th>3</th>\n",
       "      <td>450000</td>\n",
       "      <td>10.000000</td>\n",
       "      <td>2.000000</td>\n",
       "      <td>4.139046</td>\n",
       "      <td>10</td>\n",
       "      <td>4</td>\n",
       "      <td>26</td>\n",
       "      <td>7</td>\n",
       "      <td>1.0</td>\n",
       "    </tr>\n",
       "    <tr>\n",
       "      <th>4</th>\n",
       "      <td>22000</td>\n",
       "      <td>21.012756</td>\n",
       "      <td>3.196411</td>\n",
       "      <td>3.000000</td>\n",
       "      <td>10</td>\n",
       "      <td>4</td>\n",
       "      <td>26</td>\n",
       "      <td>7</td>\n",
       "      <td>1.0</td>\n",
       "    </tr>\n",
       "    <tr>\n",
       "      <th>...</th>\n",
       "      <td>...</td>\n",
       "      <td>...</td>\n",
       "      <td>...</td>\n",
       "      <td>...</td>\n",
       "      <td>...</td>\n",
       "      <td>...</td>\n",
       "      <td>...</td>\n",
       "      <td>...</td>\n",
       "      <td>...</td>\n",
       "    </tr>\n",
       "    <tr>\n",
       "      <th>99995</th>\n",
       "      <td>241011</td>\n",
       "      <td>3.453106</td>\n",
       "      <td>0.970000</td>\n",
       "      <td>2.842725</td>\n",
       "      <td>3</td>\n",
       "      <td>6</td>\n",
       "      <td>14</td>\n",
       "      <td>7</td>\n",
       "      <td>1.0</td>\n",
       "    </tr>\n",
       "    <tr>\n",
       "      <th>99996</th>\n",
       "      <td>315324</td>\n",
       "      <td>14.570000</td>\n",
       "      <td>7.140000</td>\n",
       "      <td>8.967031</td>\n",
       "      <td>3</td>\n",
       "      <td>6</td>\n",
       "      <td>14</td>\n",
       "      <td>7</td>\n",
       "      <td>1.0</td>\n",
       "    </tr>\n",
       "    <tr>\n",
       "      <th>99997</th>\n",
       "      <td>63507</td>\n",
       "      <td>2.157093</td>\n",
       "      <td>0.001000</td>\n",
       "      <td>1.828031</td>\n",
       "      <td>3</td>\n",
       "      <td>6</td>\n",
       "      <td>14</td>\n",
       "      <td>7</td>\n",
       "      <td>1.0</td>\n",
       "    </tr>\n",
       "    <tr>\n",
       "      <th>99998</th>\n",
       "      <td>274021</td>\n",
       "      <td>2.009208</td>\n",
       "      <td>0.001000</td>\n",
       "      <td>1.828031</td>\n",
       "      <td>3</td>\n",
       "      <td>6</td>\n",
       "      <td>14</td>\n",
       "      <td>7</td>\n",
       "      <td>1.0</td>\n",
       "    </tr>\n",
       "    <tr>\n",
       "      <th>99999</th>\n",
       "      <td>244850</td>\n",
       "      <td>2.990287</td>\n",
       "      <td>0.982707</td>\n",
       "      <td>2.809738</td>\n",
       "      <td>3</td>\n",
       "      <td>6</td>\n",
       "      <td>14</td>\n",
       "      <td>7</td>\n",
       "      <td>1.0</td>\n",
       "    </tr>\n",
       "  </tbody>\n",
       "</table>\n",
       "<p>90558 rows × 9 columns</p>\n",
       "</div>"
      ],
      "text/plain": [
       "       gas_value  max_fee_per_gas  max_priority_fee_per_gas  \\\n",
       "0          21000         2.357097                  0.000000   \n",
       "1          21000         3.817832                  0.291000   \n",
       "2          49369         3.873482                  1.472445   \n",
       "3         450000        10.000000                  2.000000   \n",
       "4          22000        21.012756                  3.196411   \n",
       "...          ...              ...                       ...   \n",
       "99995     241011         3.453106                  0.970000   \n",
       "99996     315324        14.570000                  7.140000   \n",
       "99997      63507         2.157093                  0.001000   \n",
       "99998     274021         2.009208                  0.001000   \n",
       "99999     244850         2.990287                  0.982707   \n",
       "\n",
       "       receipt_effective_gas_price  hour  day_of_week  day_of_month  month  \\\n",
       "0                         2.357097    10            4            26      7   \n",
       "1                         2.648097    10            4            26      7   \n",
       "2                         3.847018    10            4            26      7   \n",
       "3                         4.139046    10            4            26      7   \n",
       "4                         3.000000    10            4            26      7   \n",
       "...                            ...   ...          ...           ...    ...   \n",
       "99995                     2.842725     3            6            14      7   \n",
       "99996                     8.967031     3            6            14      7   \n",
       "99997                     1.828031     3            6            14      7   \n",
       "99998                     1.828031     3            6            14      7   \n",
       "99999                     2.809738     3            6            14      7   \n",
       "\n",
       "       month_weight  \n",
       "0               1.0  \n",
       "1               1.0  \n",
       "2               1.0  \n",
       "3               1.0  \n",
       "4               1.0  \n",
       "...             ...  \n",
       "99995           1.0  \n",
       "99996           1.0  \n",
       "99997           1.0  \n",
       "99998           1.0  \n",
       "99999           1.0  \n",
       "\n",
       "[90558 rows x 9 columns]"
      ]
     },
     "execution_count": 29,
     "metadata": {},
     "output_type": "execute_result"
    }
   ],
   "source": [
    "df"
   ]
  },
  {
   "cell_type": "markdown",
   "metadata": {},
   "source": [
    "# 3. Model Building and Training"
   ]
  },
  {
   "cell_type": "markdown",
   "metadata": {},
   "source": [
    "### 3.1 Split the dataset into training and test sets."
   ]
  },
  {
   "cell_type": "markdown",
   "metadata": {},
   "source": [
    "The data were divided into training (60%), validation (20%) and test (20%) samples:"
   ]
  },
  {
   "cell_type": "code",
   "execution_count": 30,
   "metadata": {},
   "outputs": [],
   "source": [
    "# Split the dataset into training and test sets\n",
    "x_train, x_temp, y_train, y_temp = train_test_split(df, label, test_size=0.4, random_state=42)\n",
    "x_val, x_test, y_val, y_test = train_test_split(x_temp, y_temp, train_size=0.5, random_state=42)"
   ]
  },
  {
   "cell_type": "code",
   "execution_count": 31,
   "metadata": {},
   "outputs": [
    {
     "data": {
      "text/plain": [
       "54334"
      ]
     },
     "execution_count": 31,
     "metadata": {},
     "output_type": "execute_result"
    }
   ],
   "source": [
    "len(x_train)"
   ]
  },
  {
   "cell_type": "markdown",
   "metadata": {},
   "source": [
    "### 3.2 Normalize or standardize features if necessary."
   ]
  },
  {
   "cell_type": "code",
   "execution_count": 32,
   "metadata": {},
   "outputs": [],
   "source": [
    "# Normalization and standardization of data\n",
    "numerical_columns = numerical_columns = [\"gas_value\", \"max_fee_per_gas\", \"max_priority_fee_per_gas\", \"receipt_effective_gas_price\", \n",
    "                     \"hour\", \"day_of_week\", \"day_of_month\", \"month\", \"month_weight\"]\n",
    "\n",
    "scaler_minmax = MinMaxScaler()\n",
    "x_train[numerical_columns] = scaler_minmax.fit_transform(x_train[numerical_columns])\n",
    "x_val[numerical_columns] = scaler_minmax.transform(x_val[numerical_columns])\n",
    "x_test[numerical_columns] = scaler_minmax.transform(x_test[numerical_columns])\n",
    "\n",
    "scaler = StandardScaler()\n",
    "x_train[numerical_columns] = scaler.fit_transform(x_train[numerical_columns])\n",
    "x_val[numerical_columns] = scaler.transform(x_val[numerical_columns])\n",
    "x_test[numerical_columns] = scaler.transform(x_test[numerical_columns])\n",
    "\n"
   ]
  },
  {
   "cell_type": "markdown",
   "metadata": {},
   "source": [
    "### 3.3 Use cross-validation to tune hyperparameters for each model. \n",
    "### Train at least three different models (one of these models to be a neural network) to predict the gas price."
   ]
  },
  {
   "cell_type": "code",
   "execution_count": 33,
   "metadata": {},
   "outputs": [
    {
     "name": "stdout",
     "output_type": "stream",
     "text": [
      "Fitting 5 folds for each of 10 candidates, totalling 50 fits\n"
     ]
    }
   ],
   "source": [
    "# 1. RandomForestRegressor hyperparameter tuning\n",
    "rf_model = RandomForestRegressor()\n",
    "\n",
    "rf_param_dist = {\n",
    "    \"n_estimators\": [50, 100, 200],  # Number of trees in the forest\n",
    "    \"max_depth\": [None, 10, 20],     # Maximum depth of each tree\n",
    "    \"min_samples_split\": [2, 5, 10]  # Minimum samples required to split a node\n",
    "}\n",
    "\n",
    "# Initialize RandomizedSearchCV\n",
    "random_search_rf = RandomizedSearchCV(\n",
    "    estimator=rf_model,             # Model to be tuned\n",
    "    param_distributions=rf_param_dist,  # Hyperparameter grid\n",
    "    n_iter=10,                      # Number of parameter settings to sample\n",
    "    cv=5,                          # Number of folds for cross-validation\n",
    "    scoring=\"neg_mean_squared_error\",   # Evaluation metric\n",
    "    verbose=1,                     # Level of verbosity\n",
    "    random_state=42                # Random seed\n",
    ")\n",
    "\n",
    "random_search_rf.fit(x_train, y_train)\n",
    "best_rf_model = random_search_rf.best_estimator_\n",
    "\n",
    "# Evaluate RandomForestRegressor on validation data\n",
    "rf_val_predictions = best_rf_model.predict(x_val)\n",
    "\n",
    "rf_val_rmse = root_mean_squared_error(y_val, rf_val_predictions)\n",
    "rf_val_r2 = r2_score(y_val, rf_val_predictions)\n",
    "rf_val_mse = mean_squared_error(y_val, rf_val_predictions)\n",
    "rf_val_mae = mean_absolute_error(y_val, rf_val_predictions)\n",
    "rf_val_mape = mean_absolute_percentage_error(y_val, rf_val_predictions)"
   ]
  },
  {
   "cell_type": "markdown",
   "metadata": {},
   "source": [
    "<b>Why use ridge regression instead of linear regression? \n",
    "\n",
    "Ridge regression—also known as L2 regularization—is one of several types of regularization for linear regression models. \n",
    "\n",
    "Regularization is a statistical method to reduce errors caused by overfitting on training data</b>"
   ]
  },
  {
   "cell_type": "code",
   "execution_count": 34,
   "metadata": {},
   "outputs": [
    {
     "name": "stdout",
     "output_type": "stream",
     "text": [
      "Fitting 5 folds for each of 10 candidates, totalling 50 fits\n"
     ]
    }
   ],
   "source": [
    "# 2. Ridge Regression hyperparameter tuning\n",
    "ridge_model = Ridge()\n",
    "\n",
    "ridge_param_dist = {\n",
    "    'alpha': uniform(0.1, 10)  # Regularization strength\n",
    "}\n",
    "\n",
    "# Initialize RandomizedSearchCV for Ridge Regression\n",
    "random_search_ridge = RandomizedSearchCV(\n",
    "    estimator=ridge_model,               # Model to be tuned\n",
    "    param_distributions=ridge_param_dist,   # Parameter grid\n",
    "    n_iter=10,                          # Number of parameter settings to sample\n",
    "    cv=5,                              # Number of folds for cross-validation\n",
    "    scoring=\"neg_mean_squared_error\",   # Evaluation metric\n",
    "    verbose=1,                         # Level of verbosity\n",
    "    random_state=42                    # Random seed\n",
    ")\n",
    "\n",
    "random_search_ridge.fit(x_train, y_train)\n",
    "best_ridge_model = random_search_ridge.best_estimator_\n",
    "\n",
    "# Evaluate Ridge Regression on validation data\n",
    "ridge_val_predictions = best_ridge_model.predict(x_val)\n",
    "\n",
    "ridge_val_rmse = root_mean_squared_error(y_val, ridge_val_predictions)\n",
    "ridge_val_r2 = r2_score(y_val, ridge_val_predictions)\n",
    "ridge_val_mse = mean_squared_error(y_val, ridge_val_predictions)\n",
    "ridge_val_mae = mean_absolute_error(y_val, ridge_val_predictions)\n",
    "ridge_val_mape = mean_absolute_percentage_error(y_val, ridge_val_predictions)"
   ]
  },
  {
   "cell_type": "markdown",
   "metadata": {},
   "source": [
    "<h3>There is no direct cross-validation method for neural networks using Keras/TensorFlow, \n",
    "\n",
    "but we will use the EarlyStopping and ReduceLROnPlateau function to monitor and stop learning during retraining."
   ]
  },
  {
   "cell_type": "code",
   "execution_count": 35,
   "metadata": {},
   "outputs": [
    {
     "name": "stdout",
     "output_type": "stream",
     "text": [
      "Epoch 1/50\n",
      "\u001b[1m849/849\u001b[0m \u001b[32m━━━━━━━━━━━━━━━━━━━━\u001b[0m\u001b[37m\u001b[0m \u001b[1m1s\u001b[0m 888us/step - loss: 4.0138 - val_loss: 0.3773 - learning_rate: 0.0010\n",
      "Epoch 2/50\n",
      "\u001b[1m849/849\u001b[0m \u001b[32m━━━━━━━━━━━━━━━━━━━━\u001b[0m\u001b[37m\u001b[0m \u001b[1m1s\u001b[0m 802us/step - loss: 0.2380 - val_loss: 0.0930 - learning_rate: 0.0010\n",
      "Epoch 3/50\n",
      "\u001b[1m849/849\u001b[0m \u001b[32m━━━━━━━━━━━━━━━━━━━━\u001b[0m\u001b[37m\u001b[0m \u001b[1m1s\u001b[0m 802us/step - loss: 0.0692 - val_loss: 0.0286 - learning_rate: 0.0010\n",
      "Epoch 4/50\n",
      "\u001b[1m849/849\u001b[0m \u001b[32m━━━━━━━━━━━━━━━━━━━━\u001b[0m\u001b[37m\u001b[0m \u001b[1m1s\u001b[0m 802us/step - loss: 0.0309 - val_loss: 0.0235 - learning_rate: 0.0010\n",
      "Epoch 5/50\n",
      "\u001b[1m849/849\u001b[0m \u001b[32m━━━━━━━━━━━━━━━━━━━━\u001b[0m\u001b[37m\u001b[0m \u001b[1m1s\u001b[0m 772us/step - loss: 0.0246 - val_loss: 0.0195 - learning_rate: 0.0010\n",
      "Epoch 6/50\n",
      "\u001b[1m849/849\u001b[0m \u001b[32m━━━━━━━━━━━━━━━━━━━━\u001b[0m\u001b[37m\u001b[0m \u001b[1m1s\u001b[0m 838us/step - loss: 0.0210 - val_loss: 0.0197 - learning_rate: 0.0010\n",
      "Epoch 7/50\n",
      "\u001b[1m849/849\u001b[0m \u001b[32m━━━━━━━━━━━━━━━━━━━━\u001b[0m\u001b[37m\u001b[0m \u001b[1m1s\u001b[0m 832us/step - loss: 0.0208 - val_loss: 0.0153 - learning_rate: 0.0010\n",
      "Epoch 8/50\n",
      "\u001b[1m849/849\u001b[0m \u001b[32m━━━━━━━━━━━━━━━━━━━━\u001b[0m\u001b[37m\u001b[0m \u001b[1m1s\u001b[0m 790us/step - loss: 0.0187 - val_loss: 0.0172 - learning_rate: 0.0010\n",
      "Epoch 9/50\n",
      "\u001b[1m849/849\u001b[0m \u001b[32m━━━━━━━━━━━━━━━━━━━━\u001b[0m\u001b[37m\u001b[0m \u001b[1m1s\u001b[0m 822us/step - loss: 0.0177 - val_loss: 0.0134 - learning_rate: 0.0010\n",
      "Epoch 10/50\n",
      "\u001b[1m849/849\u001b[0m \u001b[32m━━━━━━━━━━━━━━━━━━━━\u001b[0m\u001b[37m\u001b[0m \u001b[1m1s\u001b[0m 812us/step - loss: 0.0164 - val_loss: 0.0214 - learning_rate: 0.0010\n",
      "Epoch 11/50\n",
      "\u001b[1m849/849\u001b[0m \u001b[32m━━━━━━━━━━━━━━━━━━━━\u001b[0m\u001b[37m\u001b[0m \u001b[1m1s\u001b[0m 802us/step - loss: 0.0173 - val_loss: 0.0186 - learning_rate: 0.0010\n",
      "Epoch 12/50\n",
      "\u001b[1m821/849\u001b[0m \u001b[32m━━━━━━━━━━━━━━━━━━━\u001b[0m\u001b[37m━\u001b[0m \u001b[1m0s\u001b[0m 636us/step - loss: 0.0173\n",
      "Epoch 12: ReduceLROnPlateau reducing learning rate to 0.0004000000189989805.\n",
      "\u001b[1m849/849\u001b[0m \u001b[32m━━━━━━━━━━━━━━━━━━━━\u001b[0m\u001b[37m\u001b[0m \u001b[1m1s\u001b[0m 821us/step - loss: 0.0173 - val_loss: 0.0170 - learning_rate: 0.0010\n",
      "Epoch 13/50\n",
      "\u001b[1m849/849\u001b[0m \u001b[32m━━━━━━━━━━━━━━━━━━━━\u001b[0m\u001b[37m\u001b[0m \u001b[1m1s\u001b[0m 808us/step - loss: 0.0097 - val_loss: 0.0091 - learning_rate: 4.0000e-04\n",
      "Epoch 14/50\n",
      "\u001b[1m849/849\u001b[0m \u001b[32m━━━━━━━━━━━━━━━━━━━━\u001b[0m\u001b[37m\u001b[0m \u001b[1m1s\u001b[0m 808us/step - loss: 0.0093 - val_loss: 0.0119 - learning_rate: 4.0000e-04\n",
      "Epoch 15/50\n",
      "\u001b[1m849/849\u001b[0m \u001b[32m━━━━━━━━━━━━━━━━━━━━\u001b[0m\u001b[37m\u001b[0m \u001b[1m1s\u001b[0m 815us/step - loss: 0.0100 - val_loss: 0.0094 - learning_rate: 4.0000e-04\n",
      "Epoch 16/50\n",
      "\u001b[1m770/849\u001b[0m \u001b[32m━━━━━━━━━━━━━━━━━━\u001b[0m\u001b[37m━━\u001b[0m \u001b[1m0s\u001b[0m 604us/step - loss: 0.0093\n",
      "Epoch 16: ReduceLROnPlateau reducing learning rate to 0.00016000000759959222.\n",
      "\u001b[1m849/849\u001b[0m \u001b[32m━━━━━━━━━━━━━━━━━━━━\u001b[0m\u001b[37m\u001b[0m \u001b[1m1s\u001b[0m 797us/step - loss: 0.0093 - val_loss: 0.0093 - learning_rate: 4.0000e-04\n",
      "Epoch 17/50\n",
      "\u001b[1m849/849\u001b[0m \u001b[32m━━━━━━━━━━━━━━━━━━━━\u001b[0m\u001b[37m\u001b[0m \u001b[1m1s\u001b[0m 764us/step - loss: 0.0070 - val_loss: 0.0076 - learning_rate: 1.6000e-04\n",
      "Epoch 18/50\n",
      "\u001b[1m849/849\u001b[0m \u001b[32m━━━━━━━━━━━━━━━━━━━━\u001b[0m\u001b[37m\u001b[0m \u001b[1m1s\u001b[0m 826us/step - loss: 0.0069 - val_loss: 0.0062 - learning_rate: 1.6000e-04\n",
      "Epoch 19/50\n",
      "\u001b[1m849/849\u001b[0m \u001b[32m━━━━━━━━━━━━━━━━━━━━\u001b[0m\u001b[37m\u001b[0m \u001b[1m1s\u001b[0m 800us/step - loss: 0.0068 - val_loss: 0.0070 - learning_rate: 1.6000e-04\n",
      "Epoch 20/50\n",
      "\u001b[1m849/849\u001b[0m \u001b[32m━━━━━━━━━━━━━━━━━━━━\u001b[0m\u001b[37m\u001b[0m \u001b[1m1s\u001b[0m 785us/step - loss: 0.0066 - val_loss: 0.0068 - learning_rate: 1.6000e-04\n",
      "Epoch 21/50\n",
      "\u001b[1m797/849\u001b[0m \u001b[32m━━━━━━━━━━━━━━━━━━\u001b[0m\u001b[37m━━\u001b[0m \u001b[1m0s\u001b[0m 642us/step - loss: 0.0065\n",
      "Epoch 21: ReduceLROnPlateau reducing learning rate to 6.40000042039901e-05.\n",
      "\u001b[1m849/849\u001b[0m \u001b[32m━━━━━━━━━━━━━━━━━━━━\u001b[0m\u001b[37m\u001b[0m \u001b[1m1s\u001b[0m 825us/step - loss: 0.0065 - val_loss: 0.0071 - learning_rate: 1.6000e-04\n",
      "Epoch 22/50\n",
      "\u001b[1m849/849\u001b[0m \u001b[32m━━━━━━━━━━━━━━━━━━━━\u001b[0m\u001b[37m\u001b[0m \u001b[1m1s\u001b[0m 792us/step - loss: 0.0055 - val_loss: 0.0060 - learning_rate: 6.4000e-05\n",
      "Epoch 23/50\n",
      "\u001b[1m849/849\u001b[0m \u001b[32m━━━━━━━━━━━━━━━━━━━━\u001b[0m\u001b[37m\u001b[0m \u001b[1m1s\u001b[0m 779us/step - loss: 0.0055 - val_loss: 0.0062 - learning_rate: 6.4000e-05\n",
      "Epoch 24/50\n",
      "\u001b[1m849/849\u001b[0m \u001b[32m━━━━━━━━━━━━━━━━━━━━\u001b[0m\u001b[37m\u001b[0m \u001b[1m1s\u001b[0m 802us/step - loss: 0.0057 - val_loss: 0.0063 - learning_rate: 6.4000e-05\n",
      "Epoch 25/50\n",
      "\u001b[1m849/849\u001b[0m \u001b[32m━━━━━━━━━━━━━━━━━━━━\u001b[0m\u001b[37m\u001b[0m \u001b[1m1s\u001b[0m 796us/step - loss: 0.0056 - val_loss: 0.0058 - learning_rate: 6.4000e-05\n",
      "Epoch 26/50\n",
      "\u001b[1m849/849\u001b[0m \u001b[32m━━━━━━━━━━━━━━━━━━━━\u001b[0m\u001b[37m\u001b[0m \u001b[1m1s\u001b[0m 774us/step - loss: 0.0056 - val_loss: 0.0058 - learning_rate: 6.4000e-05\n",
      "Epoch 27/50\n",
      "\u001b[1m849/849\u001b[0m \u001b[32m━━━━━━━━━━━━━━━━━━━━\u001b[0m\u001b[37m\u001b[0m \u001b[1m1s\u001b[0m 797us/step - loss: 0.0057 - val_loss: 0.0058 - learning_rate: 6.4000e-05\n",
      "Epoch 28/50\n",
      "\u001b[1m772/849\u001b[0m \u001b[32m━━━━━━━━━━━━━━━━━━\u001b[0m\u001b[37m━━\u001b[0m \u001b[1m0s\u001b[0m 606us/step - loss: 0.0055\n",
      "Epoch 28: ReduceLROnPlateau reducing learning rate to 2.560000284574926e-05.\n",
      "\u001b[1m849/849\u001b[0m \u001b[32m━━━━━━━━━━━━━━━━━━━━\u001b[0m\u001b[37m\u001b[0m \u001b[1m1s\u001b[0m 800us/step - loss: 0.0055 - val_loss: 0.0059 - learning_rate: 6.4000e-05\n",
      "Epoch 29/50\n",
      "\u001b[1m849/849\u001b[0m \u001b[32m━━━━━━━━━━━━━━━━━━━━\u001b[0m\u001b[37m\u001b[0m \u001b[1m1s\u001b[0m 762us/step - loss: 0.0049 - val_loss: 0.0057 - learning_rate: 2.5600e-05\n",
      "Epoch 30/50\n",
      "\u001b[1m849/849\u001b[0m \u001b[32m━━━━━━━━━━━━━━━━━━━━\u001b[0m\u001b[37m\u001b[0m \u001b[1m1s\u001b[0m 812us/step - loss: 0.0050 - val_loss: 0.0054 - learning_rate: 2.5600e-05\n",
      "Epoch 31/50\n",
      "\u001b[1m849/849\u001b[0m \u001b[32m━━━━━━━━━━━━━━━━━━━━\u001b[0m\u001b[37m\u001b[0m \u001b[1m1s\u001b[0m 773us/step - loss: 0.0053 - val_loss: 0.0055 - learning_rate: 2.5600e-05\n",
      "Epoch 32/50\n",
      "\u001b[1m849/849\u001b[0m \u001b[32m━━━━━━━━━━━━━━━━━━━━\u001b[0m\u001b[37m\u001b[0m \u001b[1m1s\u001b[0m 796us/step - loss: 0.0051 - val_loss: 0.0053 - learning_rate: 2.5600e-05\n",
      "Epoch 33/50\n",
      "\u001b[1m849/849\u001b[0m \u001b[32m━━━━━━━━━━━━━━━━━━━━\u001b[0m\u001b[37m\u001b[0m \u001b[1m1s\u001b[0m 770us/step - loss: 0.0050 - val_loss: 0.0053 - learning_rate: 2.5600e-05\n",
      "Epoch 34/50\n",
      "\u001b[1m849/849\u001b[0m \u001b[32m━━━━━━━━━━━━━━━━━━━━\u001b[0m\u001b[37m\u001b[0m \u001b[1m1s\u001b[0m 779us/step - loss: 0.0052 - val_loss: 0.0053 - learning_rate: 2.5600e-05\n",
      "Epoch 35/50\n",
      "\u001b[1m849/849\u001b[0m \u001b[32m━━━━━━━━━━━━━━━━━━━━\u001b[0m\u001b[37m\u001b[0m \u001b[1m1s\u001b[0m 791us/step - loss: 0.0054 - val_loss: 0.0053 - learning_rate: 2.5600e-05\n",
      "Epoch 36/50\n",
      "\u001b[1m778/849\u001b[0m \u001b[32m━━━━━━━━━━━━━━━━━━\u001b[0m\u001b[37m━━\u001b[0m \u001b[1m0s\u001b[0m 606us/step - loss: 0.0050\n",
      "Epoch 36: ReduceLROnPlateau reducing learning rate to 1.0240000847261399e-05.\n",
      "\u001b[1m849/849\u001b[0m \u001b[32m━━━━━━━━━━━━━━━━━━━━\u001b[0m\u001b[37m\u001b[0m \u001b[1m1s\u001b[0m 817us/step - loss: 0.0050 - val_loss: 0.0053 - learning_rate: 2.5600e-05\n",
      "Epoch 37/50\n",
      "\u001b[1m849/849\u001b[0m \u001b[32m━━━━━━━━━━━━━━━━━━━━\u001b[0m\u001b[37m\u001b[0m \u001b[1m1s\u001b[0m 800us/step - loss: 0.0048 - val_loss: 0.0052 - learning_rate: 1.0240e-05\n",
      "Epoch 38/50\n",
      "\u001b[1m849/849\u001b[0m \u001b[32m━━━━━━━━━━━━━━━━━━━━\u001b[0m\u001b[37m\u001b[0m \u001b[1m1s\u001b[0m 774us/step - loss: 0.0050 - val_loss: 0.0051 - learning_rate: 1.0240e-05\n",
      "Epoch 39/50\n",
      "\u001b[1m849/849\u001b[0m \u001b[32m━━━━━━━━━━━━━━━━━━━━\u001b[0m\u001b[37m\u001b[0m \u001b[1m1s\u001b[0m 813us/step - loss: 0.0049 - val_loss: 0.0052 - learning_rate: 1.0240e-05\n",
      "Epoch 40/50\n",
      "\u001b[1m777/849\u001b[0m \u001b[32m━━━━━━━━━━━━━━━━━━\u001b[0m\u001b[37m━━\u001b[0m \u001b[1m0s\u001b[0m 600us/step - loss: 0.0049\n",
      "Epoch 40: ReduceLROnPlateau reducing learning rate to 1e-05.\n",
      "\u001b[1m849/849\u001b[0m \u001b[32m━━━━━━━━━━━━━━━━━━━━\u001b[0m\u001b[37m\u001b[0m \u001b[1m1s\u001b[0m 792us/step - loss: 0.0049 - val_loss: 0.0052 - learning_rate: 1.0240e-05\n",
      "Epoch 41/50\n",
      "\u001b[1m849/849\u001b[0m \u001b[32m━━━━━━━━━━━━━━━━━━━━\u001b[0m\u001b[37m\u001b[0m \u001b[1m1s\u001b[0m 773us/step - loss: 0.0048 - val_loss: 0.0051 - learning_rate: 1.0000e-05\n",
      "Epoch 42/50\n",
      "\u001b[1m849/849\u001b[0m \u001b[32m━━━━━━━━━━━━━━━━━━━━\u001b[0m\u001b[37m\u001b[0m \u001b[1m1s\u001b[0m 842us/step - loss: 0.0049 - val_loss: 0.0052 - learning_rate: 1.0000e-05\n",
      "Epoch 43/50\n",
      "\u001b[1m849/849\u001b[0m \u001b[32m━━━━━━━━━━━━━━━━━━━━\u001b[0m\u001b[37m\u001b[0m \u001b[1m1s\u001b[0m 821us/step - loss: 0.0050 - val_loss: 0.0051 - learning_rate: 1.0000e-05\n",
      "Epoch 44/50\n",
      "\u001b[1m849/849\u001b[0m \u001b[32m━━━━━━━━━━━━━━━━━━━━\u001b[0m\u001b[37m\u001b[0m \u001b[1m1s\u001b[0m 816us/step - loss: 0.0048 - val_loss: 0.0051 - learning_rate: 1.0000e-05\n",
      "Epoch 45/50\n",
      "\u001b[1m849/849\u001b[0m \u001b[32m━━━━━━━━━━━━━━━━━━━━\u001b[0m\u001b[37m\u001b[0m \u001b[1m1s\u001b[0m 802us/step - loss: 0.0049 - val_loss: 0.0051 - learning_rate: 1.0000e-05\n",
      "Epoch 46/50\n",
      "\u001b[1m849/849\u001b[0m \u001b[32m━━━━━━━━━━━━━━━━━━━━\u001b[0m\u001b[37m\u001b[0m \u001b[1m1s\u001b[0m 797us/step - loss: 0.0048 - val_loss: 0.0051 - learning_rate: 1.0000e-05\n",
      "\u001b[1m566/566\u001b[0m \u001b[32m━━━━━━━━━━━━━━━━━━━━\u001b[0m\u001b[37m\u001b[0m \u001b[1m0s\u001b[0m 549us/step\n"
     ]
    }
   ],
   "source": [
    "# 3. Neural Network Model\n",
    "neural_model = Sequential([\n",
    "    Input(shape=(x_train.shape[1],)),\n",
    "    Dense(64, activation=\"relu\"),\n",
    "    Dense(1)\n",
    "])\n",
    "\n",
    "learning_rate_reduction = ReduceLROnPlateau(monitor=\"val_loss\",  # Monitor validation loss\n",
    "                                            patience=3,  # Wait 3 epochs before reducing LR\n",
    "                                            verbose=1,  # Print message when reducing LR\n",
    "                                            factor=0.4,  # Reduce LR by 40%\n",
    "                                            min_lr=0.00001)  # Minimum LR value\n",
    "\n",
    "earlystop = EarlyStopping(monitor=\"val_loss\",  # Monitor validation loss\n",
    "                          patience=5,  # Stop after 5 epochs without improvement\n",
    "                          restore_best_weights=True)  # Restore best weights\n",
    "    \n",
    "callbacks = [earlystop, learning_rate_reduction]\n",
    "\n",
    "neural_model.compile(optimizer=\"adam\", loss=\"mean_absolute_error\")\n",
    "\n",
    "neural_model.fit(\n",
    "    x_train, y_train,                     # Training data\n",
    "    epochs=50,                           # Number of epochs\n",
    "    batch_size=64,                       # Batch size\n",
    "    validation_data=(x_val, y_val),      # Validation data\n",
    "    callbacks=callbacks                  # Callbacks for early stopping and learning rate reduction\n",
    ")\n",
    "\n",
    "# Evaluate Neural Network on validation data\n",
    "nm_val_predictions = neural_model.predict(x_val)\n",
    "\n",
    "nm_val_rmse = root_mean_squared_error(y_val, nm_val_predictions)\n",
    "nm_val_r2 = r2_score(y_val, nm_val_predictions)\n",
    "nm_val_mse = mean_squared_error(y_val, nm_val_predictions)\n",
    "nm_val_mae = mean_absolute_error(y_val, nm_val_predictions)\n",
    "nm_val_mape = mean_absolute_percentage_error(y_val, nm_val_predictions)\n",
    "\n"
   ]
  },
  {
   "cell_type": "code",
   "execution_count": 36,
   "metadata": {},
   "outputs": [
    {
     "data": {
      "text/html": [
       "<div>\n",
       "<style scoped>\n",
       "    .dataframe tbody tr th:only-of-type {\n",
       "        vertical-align: middle;\n",
       "    }\n",
       "\n",
       "    .dataframe tbody tr th {\n",
       "        vertical-align: top;\n",
       "    }\n",
       "\n",
       "    .dataframe thead th {\n",
       "        text-align: right;\n",
       "    }\n",
       "</style>\n",
       "<table border=\"1\" class=\"dataframe\">\n",
       "  <thead>\n",
       "    <tr style=\"text-align: right;\">\n",
       "      <th></th>\n",
       "      <th>Model</th>\n",
       "      <th>Validation RMSE</th>\n",
       "      <th>Validation R²</th>\n",
       "      <th>Validation MSE</th>\n",
       "      <th>Validation MAE</th>\n",
       "      <th>Validation MAPE</th>\n",
       "    </tr>\n",
       "  </thead>\n",
       "  <tbody>\n",
       "    <tr>\n",
       "      <th>0</th>\n",
       "      <td>Random Forest</td>\n",
       "      <td>0.092743</td>\n",
       "      <td>0.999912</td>\n",
       "      <td>0.008601</td>\n",
       "      <td>0.006533</td>\n",
       "      <td>0.000482</td>\n",
       "    </tr>\n",
       "    <tr>\n",
       "      <th>1</th>\n",
       "      <td>Ridge Regression</td>\n",
       "      <td>0.000460</td>\n",
       "      <td>1.000000</td>\n",
       "      <td>0.000000</td>\n",
       "      <td>0.000237</td>\n",
       "      <td>0.000034</td>\n",
       "    </tr>\n",
       "    <tr>\n",
       "      <th>2</th>\n",
       "      <td>Neural Network</td>\n",
       "      <td>0.028768</td>\n",
       "      <td>0.999992</td>\n",
       "      <td>0.000828</td>\n",
       "      <td>0.005115</td>\n",
       "      <td>0.000567</td>\n",
       "    </tr>\n",
       "  </tbody>\n",
       "</table>\n",
       "</div>"
      ],
      "text/plain": [
       "              Model  Validation RMSE  Validation R²  Validation MSE  \\\n",
       "0     Random Forest         0.092743       0.999912        0.008601   \n",
       "1  Ridge Regression         0.000460       1.000000        0.000000   \n",
       "2    Neural Network         0.028768       0.999992        0.000828   \n",
       "\n",
       "   Validation MAE  Validation MAPE  \n",
       "0        0.006533         0.000482  \n",
       "1        0.000237         0.000034  \n",
       "2        0.005115         0.000567  "
      ]
     },
     "execution_count": 36,
     "metadata": {},
     "output_type": "execute_result"
    }
   ],
   "source": [
    "# Validation results\n",
    "validation_results = {\n",
    "    \"Model\": [\"Random Forest\", \"Ridge Regression\", \"Neural Network\"],\n",
    "    \"Validation RMSE\": [rf_val_rmse, ridge_val_rmse, nm_val_rmse],\n",
    "    \"Validation R²\": [rf_val_r2, ridge_val_r2, nm_val_r2],\n",
    "    \"Validation MSE\": [rf_val_mse, ridge_val_mse, nm_val_mse],\n",
    "    \"Validation MAE\": [rf_val_mae, ridge_val_mae, nm_val_mae],\n",
    "    \"Validation MAPE\": [rf_val_mape, ridge_val_mape, nm_val_mape]\n",
    "}\n",
    "\n",
    "validation_df = pd.DataFrame(validation_results)\n",
    "\n",
    "validation_df.round(6)"
   ]
  },
  {
   "cell_type": "markdown",
   "metadata": {},
   "source": [
    "Conclusion:\n",
    "The Ridge regression model was optimized using Randomized Search C V, which made it possible to select the best hyperparameters. After that, the model was evaluated on validation data, and the results include important metrics such as RMSE, R2, MSE, MAE, and MAPE. These metrics provide information about the accuracy of the model and its ability to make predictions based on validation data."
   ]
  },
  {
   "cell_type": "markdown",
   "metadata": {},
   "source": [
    "<b>Ridge Regression</b> shows the best performance on all metrics: it has the lowest values of RMSE, MAE, MAE and MAPE, \n",
    "and an ideal value of R2, which indicates high accuracy and excellent compliance of the model with the data.\n",
    "<b>Neural Network</b> and <b>Random Forest</b> also show good results, but their metrics show a slightly larger error compared to Ridge Regression."
   ]
  },
  {
   "cell_type": "markdown",
   "metadata": {},
   "source": [
    "# 4. Model Evaluation and Selection"
   ]
  },
  {
   "cell_type": "markdown",
   "metadata": {},
   "source": [
    "### 4.1 Evaluation"
   ]
  },
  {
   "cell_type": "code",
   "execution_count": 37,
   "metadata": {},
   "outputs": [],
   "source": [
    "# Predict RandomForestRegressor\n",
    "rf_pred = best_rf_model.predict(x_test)\n",
    "\n",
    "# Evaluation\n",
    "rf_rmse = root_mean_squared_error(y_test, rf_pred)\n",
    "rf_r2 = r2_score(y_test, rf_pred)\n",
    "rf_mse = mean_squared_error(y_test, rf_pred)\n",
    "rf_mae = mean_absolute_error(y_test, rf_pred)\n",
    "rf_mape = mean_absolute_percentage_error(y_test, rf_pred)\n"
   ]
  },
  {
   "cell_type": "code",
   "execution_count": 38,
   "metadata": {},
   "outputs": [],
   "source": [
    "# Predict Ridge Regression\n",
    "ridge_pred = best_ridge_model.predict(x_test)\n",
    "\n",
    "# Evaluation\n",
    "ridge_rmse = root_mean_squared_error(y_test, ridge_pred)\n",
    "ridge_r2 = r2_score(y_test, ridge_pred)\n",
    "ridge_mse = mean_squared_error(y_test, ridge_pred)\n",
    "ridge_mae = mean_absolute_error(y_test, ridge_pred)\n",
    "ridge_mape = mean_absolute_percentage_error(y_test, ridge_pred)\n"
   ]
  },
  {
   "cell_type": "code",
   "execution_count": 39,
   "metadata": {},
   "outputs": [
    {
     "name": "stdout",
     "output_type": "stream",
     "text": [
      "\u001b[1m566/566\u001b[0m \u001b[32m━━━━━━━━━━━━━━━━━━━━\u001b[0m\u001b[37m\u001b[0m \u001b[1m0s\u001b[0m 535us/step\n"
     ]
    }
   ],
   "source": [
    "# Predict Neural Network\n",
    "nm_pred = neural_model.predict(x_test)\n",
    "\n",
    "# Evaluation\n",
    "nm_rmse = root_mean_squared_error(y_test, nm_pred)\n",
    "nm_r2 = r2_score(y_test, nm_pred)\n",
    "nm_mse = mean_squared_error(y_test, nm_pred)\n",
    "nm_mae = mean_absolute_error(y_test, nm_pred)\n",
    "nm_mape = mean_absolute_percentage_error(y_test, nm_pred)\n"
   ]
  },
  {
   "cell_type": "markdown",
   "metadata": {},
   "source": [
    "The lower the <b>MSE, RMSE, MAE, MAPE</b> value, the better the model.\n",
    "\n",
    "The closer the <b>R2</b> value is to 1, the better the model explains the variation in the data."
   ]
  },
  {
   "cell_type": "code",
   "execution_count": 40,
   "metadata": {},
   "outputs": [],
   "source": [
    "# Combine validation and test results\n",
    "test_results = {\n",
    "    \"Model\": [\"Random Forest\", \"Ridge Regression\", \"Neural Network\"],\n",
    "    \"Test RMSE\": [rf_rmse, ridge_rmse, nm_rmse],\n",
    "    \"Test R²\": [rf_r2, ridge_r2, nm_r2],\n",
    "    \"Test MSE\": [rf_mse, ridge_mse, nm_mse],\n",
    "    \"Test MAE\": [rf_mae, ridge_mae, nm_mae],\n",
    "    \"Test MAPE\": [rf_mape, ridge_mape, nm_mape]\n",
    "}\n",
    "\n",
    "\n",
    "test_df = pd.DataFrame(test_results)\n",
    "\n",
    "# Merge validation and test results\n",
    "result = pd.merge(validation_df, test_df, on=\"Model\")"
   ]
  },
  {
   "cell_type": "markdown",
   "metadata": {},
   "source": [
    "### 4.2 Compare the models and select the best one based on performance metrics"
   ]
  },
  {
   "cell_type": "code",
   "execution_count": 41,
   "metadata": {},
   "outputs": [
    {
     "data": {
      "text/html": [
       "<div>\n",
       "<style scoped>\n",
       "    .dataframe tbody tr th:only-of-type {\n",
       "        vertical-align: middle;\n",
       "    }\n",
       "\n",
       "    .dataframe tbody tr th {\n",
       "        vertical-align: top;\n",
       "    }\n",
       "\n",
       "    .dataframe thead th {\n",
       "        text-align: right;\n",
       "    }\n",
       "</style>\n",
       "<table border=\"1\" class=\"dataframe\">\n",
       "  <thead>\n",
       "    <tr style=\"text-align: right;\">\n",
       "      <th></th>\n",
       "      <th>Model</th>\n",
       "      <th>Validation RMSE</th>\n",
       "      <th>Validation R²</th>\n",
       "      <th>Validation MSE</th>\n",
       "      <th>Validation MAE</th>\n",
       "      <th>Validation MAPE</th>\n",
       "      <th>Test RMSE</th>\n",
       "      <th>Test R²</th>\n",
       "      <th>Test MSE</th>\n",
       "      <th>Test MAE</th>\n",
       "      <th>Test MAPE</th>\n",
       "    </tr>\n",
       "  </thead>\n",
       "  <tbody>\n",
       "    <tr>\n",
       "      <th>0</th>\n",
       "      <td>Random Forest</td>\n",
       "      <td>0.092743</td>\n",
       "      <td>0.999912</td>\n",
       "      <td>0.008601</td>\n",
       "      <td>0.006533</td>\n",
       "      <td>0.000482</td>\n",
       "      <td>0.058270</td>\n",
       "      <td>0.999961</td>\n",
       "      <td>0.003395</td>\n",
       "      <td>0.005395</td>\n",
       "      <td>0.000471</td>\n",
       "    </tr>\n",
       "    <tr>\n",
       "      <th>1</th>\n",
       "      <td>Ridge Regression</td>\n",
       "      <td>0.000460</td>\n",
       "      <td>1.000000</td>\n",
       "      <td>0.000000</td>\n",
       "      <td>0.000237</td>\n",
       "      <td>0.000034</td>\n",
       "      <td>0.000459</td>\n",
       "      <td>1.000000</td>\n",
       "      <td>0.000000</td>\n",
       "      <td>0.000241</td>\n",
       "      <td>0.000034</td>\n",
       "    </tr>\n",
       "    <tr>\n",
       "      <th>2</th>\n",
       "      <td>Neural Network</td>\n",
       "      <td>0.028768</td>\n",
       "      <td>0.999992</td>\n",
       "      <td>0.000828</td>\n",
       "      <td>0.005115</td>\n",
       "      <td>0.000567</td>\n",
       "      <td>0.028527</td>\n",
       "      <td>0.999991</td>\n",
       "      <td>0.000814</td>\n",
       "      <td>0.005219</td>\n",
       "      <td>0.000585</td>\n",
       "    </tr>\n",
       "  </tbody>\n",
       "</table>\n",
       "</div>"
      ],
      "text/plain": [
       "              Model  Validation RMSE  Validation R²  Validation MSE  \\\n",
       "0     Random Forest         0.092743       0.999912        0.008601   \n",
       "1  Ridge Regression         0.000460       1.000000        0.000000   \n",
       "2    Neural Network         0.028768       0.999992        0.000828   \n",
       "\n",
       "   Validation MAE  Validation MAPE  Test RMSE   Test R²  Test MSE  Test MAE  \\\n",
       "0        0.006533         0.000482   0.058270  0.999961  0.003395  0.005395   \n",
       "1        0.000237         0.000034   0.000459  1.000000  0.000000  0.000241   \n",
       "2        0.005115         0.000567   0.028527  0.999991  0.000814  0.005219   \n",
       "\n",
       "   Test MAPE  \n",
       "0   0.000471  \n",
       "1   0.000034  \n",
       "2   0.000585  "
      ]
     },
     "execution_count": 41,
     "metadata": {},
     "output_type": "execute_result"
    }
   ],
   "source": [
    "# Compare the models\n",
    "result = pd.DataFrame(result)\n",
    "result.round(6)"
   ]
  },
  {
   "cell_type": "markdown",
   "metadata": {},
   "source": [
    "Conclusion:\n",
    "\n",
    "Ridge Regression shows the best results on all metrics, both on validation and test data, which makes it the most effective model for this task.\n",
    "\n",
    "Random Forest and Neural Network also show good results, but have higher errors compared to Ridge Regression, especially on test data. The neural network may require additional tuning to improve performance.\n",
    "\n",
    "All three of our models show very good results due to good data from the blockchain, proper data purification from duplicates and anomalies, as well as due to cross-validation, hyperparameters of standardization and normalization."
   ]
  },
  {
   "cell_type": "code",
   "execution_count": 42,
   "metadata": {},
   "outputs": [
    {
     "data": {
      "image/png": "[encoded data removed]",
      "text/plain": [
       "<Figure size 600x600 with 1 Axes>"
      ]
     },
     "metadata": {},
     "output_type": "display_data"
    },
    {
     "data": {
      "image/png": "[encoded data removed]",
      "text/plain": [
       "<Figure size 600x600 with 1 Axes>"
      ]
     },
     "metadata": {},
     "output_type": "display_data"
    },
    {
     "data": {
      "image/png": "[encoded data removed]",
      "text/plain": [
       "<Figure size 600x600 with 1 Axes>"
      ]
     },
     "metadata": {},
     "output_type": "display_data"
    },
    {
     "data": {
      "image/png": "[encoded data removed]",
      "text/plain": [
       "<Figure size 600x600 with 1 Axes>"
      ]
     },
     "metadata": {},
     "output_type": "display_data"
    },
    {
     "data": {
      "image/png": "[encoded data removed]",
      "text/plain": [
       "<Figure size 600x600 with 1 Axes>"
      ]
     },
     "metadata": {},
     "output_type": "display_data"
    }
   ],
   "source": [
    "for metric in [\"RMSE\", \"R²\", \"MSE\", \"MAE\", \"MAPE\"]:\n",
    "    plt.figure(figsize=(6, 6))\n",
    "    sns.barplot(data=result.melt(id_vars=\"Model\", value_vars=[f\"Validation {metric}\", f\"Test {metric}\"], var_name=\"Metric\", value_name=\"Score\"),\n",
    "                x=\"Model\", y=\"Score\", hue=\"Metric\")\n",
    "    plt.title(f\"{metric} Comparison\")\n",
    "    plt.ylabel(f\"{metric}\")\n",
    "    plt.xticks(rotation=45)\n",
    "    plt.tight_layout()\n",
    "    plt.show()"
   ]
  }
 ],
 "metadata": {
  "kernelspec": {
   "display_name": "Python 3",
   "language": "python",
   "name": "python3"
  },
  "language_info": {
   "codemirror_mode": {
    "name": "ipython",
    "version": 3
   },
   "file_extension": ".py",
   "mimetype": "text/x-python",
   "name": "python",
   "nbconvert_exporter": "python",
   "pygments_lexer": "ipython3",
   "version": "3.12.4"
  }
 },
 "nbformat": 4,
 "nbformat_minor": 2
}
