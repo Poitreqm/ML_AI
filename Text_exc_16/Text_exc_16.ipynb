{
 "cells": [
  {
   "cell_type": "code",
   "execution_count": 248,
   "metadata": {},
   "outputs": [],
   "source": [
    "from tensorflow.keras.preprocessing.text import Tokenizer\n",
    "from keras.preprocessing.sequence import pad_sequences\n",
    "from sklearn.model_selection import train_test_split\n",
    "from keras.layers import Embedding\n",
    "import os\n",
    "import pandas as pd\n",
    "import numpy as np\n",
    "import matplotlib.pyplot as plt\n",
    "import tensorflow as tf\n",
    "from keras.datasets import imdb\n",
    "from tensorflow.keras.models import Sequential\n",
    "from tensorflow.keras.layers import Dense, Flatten, Embedding, Dropout, LSTM\n",
    "from tensorflow.keras.callbacks import EarlyStopping, ReduceLROnPlateau"
   ]
  },
  {
   "cell_type": "code",
   "execution_count": 249,
   "metadata": {},
   "outputs": [],
   "source": [
    "TRAIN_DIRECTORY = \"big-files/train/\"\n",
    "TEST_DIRECTORY = \"big-files/test/\"\n",
    "GLOVE_DIRECTORY = \"big-files/glove.6B/\"\n",
    "MAX_WORDS = 10000\n",
    "MAX_LEN = 100 # Отсечение остатка отзывов после 100-го слова\n",
    "EPOCHS = 15\n",
    "BATCH_SIZE = 32"
   ]
  },
  {
   "cell_type": "code",
   "execution_count": 250,
   "metadata": {},
   "outputs": [],
   "source": [
    "txt = [\"Hello my little world\", \"My name is Ivan Zdravkov\", \"Now i live in Bulgaria, republic of\"]"
   ]
  },
  {
   "cell_type": "code",
   "execution_count": 251,
   "metadata": {},
   "outputs": [],
   "source": [
    "# Создание и обучение токенизатора\n",
    "tokenizer = Tokenizer()\n",
    "tokenizer.fit_on_texts(txt)"
   ]
  },
  {
   "cell_type": "code",
   "execution_count": 252,
   "metadata": {},
   "outputs": [],
   "source": [
    "# Преобразование текстов в числовые последовательности\n",
    "sequence = tokenizer.texts_to_sequences(txt)"
   ]
  },
  {
   "cell_type": "code",
   "execution_count": 253,
   "metadata": {},
   "outputs": [],
   "source": [
    "# Создание one-hot матрицы\n",
    "one_hot_result = tokenizer.texts_to_matrix(txt)"
   ]
  },
  {
   "cell_type": "code",
   "execution_count": 254,
   "metadata": {},
   "outputs": [],
   "source": [
    "# Получение словаря\n",
    "word_index = tokenizer.word_index"
   ]
  },
  {
   "cell_type": "code",
   "execution_count": 255,
   "metadata": {},
   "outputs": [
    {
     "data": {
      "text/plain": [
       "array([[0., 1., 1., 1., 1., 0., 0., 0., 0., 0., 0., 0., 0., 0., 0., 0.],\n",
       "       [0., 1., 0., 0., 0., 1., 1., 1., 1., 0., 0., 0., 0., 0., 0., 0.],\n",
       "       [0., 0., 0., 0., 0., 0., 0., 0., 0., 1., 1., 1., 1., 1., 1., 1.]])"
      ]
     },
     "execution_count": 255,
     "metadata": {},
     "output_type": "execute_result"
    }
   ],
   "source": [
    "one_hot_result"
   ]
  },
  {
   "cell_type": "markdown",
   "metadata": {},
   "source": [
    "# Загрузка данных из IMDB в виде простого текста\n",
    "# ТОКЕНИЗАЦИЯ"
   ]
  },
  {
   "cell_type": "code",
   "execution_count": 256,
   "metadata": {},
   "outputs": [],
   "source": [
    "texts = []\n",
    "labels = []\n",
    "for label_type in [\"neg\", \"pos\"]:\n",
    "    dir_name = os.path.join(TRAIN_DIRECTORY, label_type)\n",
    "    \n",
    "    for fname in os.listdir(dir_name):\n",
    "        if fname.endswith(\".txt\"):\n",
    "            with open(os.path.join(dir_name, fname), \"r\", encoding=\"utf-8\") as f: \n",
    "                # Использование контекстного менеджера with: Это гарантирует, что файлы будут закрыты автоматически после завершения работы с ними, даже если произойдет ошибка.\n",
    "                # Явное указание кодировки utf-8: Это помогает избежать проблем с кодировками, которые могут возникнуть при чтении текстовых файлов.\n",
    "                texts.append(f.read())\n",
    "                \n",
    "            if label_type == \"neg\":\n",
    "                labels.append(0)\n",
    "            else:\n",
    "                labels.append(1)"
   ]
  },
  {
   "cell_type": "code",
   "execution_count": 257,
   "metadata": {},
   "outputs": [
    {
     "data": {
      "text/html": [
       "<div>\n",
       "<style scoped>\n",
       "    .dataframe tbody tr th:only-of-type {\n",
       "        vertical-align: middle;\n",
       "    }\n",
       "\n",
       "    .dataframe tbody tr th {\n",
       "        vertical-align: top;\n",
       "    }\n",
       "\n",
       "    .dataframe thead th {\n",
       "        text-align: right;\n",
       "    }\n",
       "</style>\n",
       "<table border=\"1\" class=\"dataframe\">\n",
       "  <thead>\n",
       "    <tr style=\"text-align: right;\">\n",
       "      <th></th>\n",
       "      <th>text</th>\n",
       "      <th>labels</th>\n",
       "    </tr>\n",
       "  </thead>\n",
       "  <tbody>\n",
       "    <tr>\n",
       "      <th>0</th>\n",
       "      <td>Story of a man who has unnatural feelings for ...</td>\n",
       "      <td>neg</td>\n",
       "    </tr>\n",
       "    <tr>\n",
       "      <th>1</th>\n",
       "      <td>Airport '77 starts as a brand new luxury 747 p...</td>\n",
       "      <td>neg</td>\n",
       "    </tr>\n",
       "    <tr>\n",
       "      <th>2</th>\n",
       "      <td>This film lacked something I couldn't put my f...</td>\n",
       "      <td>neg</td>\n",
       "    </tr>\n",
       "    <tr>\n",
       "      <th>3</th>\n",
       "      <td>Sorry everyone,,, I know this is supposed to b...</td>\n",
       "      <td>neg</td>\n",
       "    </tr>\n",
       "    <tr>\n",
       "      <th>4</th>\n",
       "      <td>When I was little my parents took me along to ...</td>\n",
       "      <td>neg</td>\n",
       "    </tr>\n",
       "    <tr>\n",
       "      <th>...</th>\n",
       "      <td>...</td>\n",
       "      <td>...</td>\n",
       "    </tr>\n",
       "    <tr>\n",
       "      <th>24995</th>\n",
       "      <td>Seeing as the vote average was pretty low, and...</td>\n",
       "      <td>pos</td>\n",
       "    </tr>\n",
       "    <tr>\n",
       "      <th>24996</th>\n",
       "      <td>The plot had some wretched, unbelievable twist...</td>\n",
       "      <td>pos</td>\n",
       "    </tr>\n",
       "    <tr>\n",
       "      <th>24997</th>\n",
       "      <td>I am amazed at how this movie(and most others ...</td>\n",
       "      <td>pos</td>\n",
       "    </tr>\n",
       "    <tr>\n",
       "      <th>24998</th>\n",
       "      <td>A Christmas Together actually came before my t...</td>\n",
       "      <td>pos</td>\n",
       "    </tr>\n",
       "    <tr>\n",
       "      <th>24999</th>\n",
       "      <td>Working-class romantic drama from director Mar...</td>\n",
       "      <td>pos</td>\n",
       "    </tr>\n",
       "  </tbody>\n",
       "</table>\n",
       "<p>25000 rows × 2 columns</p>\n",
       "</div>"
      ],
      "text/plain": [
       "                                                    text labels\n",
       "0      Story of a man who has unnatural feelings for ...    neg\n",
       "1      Airport '77 starts as a brand new luxury 747 p...    neg\n",
       "2      This film lacked something I couldn't put my f...    neg\n",
       "3      Sorry everyone,,, I know this is supposed to b...    neg\n",
       "4      When I was little my parents took me along to ...    neg\n",
       "...                                                  ...    ...\n",
       "24995  Seeing as the vote average was pretty low, and...    pos\n",
       "24996  The plot had some wretched, unbelievable twist...    pos\n",
       "24997  I am amazed at how this movie(and most others ...    pos\n",
       "24998  A Christmas Together actually came before my t...    pos\n",
       "24999  Working-class romantic drama from director Mar...    pos\n",
       "\n",
       "[25000 rows x 2 columns]"
      ]
     },
     "execution_count": 257,
     "metadata": {},
     "output_type": "execute_result"
    }
   ],
   "source": [
    "df = pd.DataFrame({\"text\": texts, \"labels\": labels}).replace({0: \"neg\", 1: \"pos\"})\n",
    "df"
   ]
  },
  {
   "cell_type": "code",
   "execution_count": 258,
   "metadata": {},
   "outputs": [],
   "source": [
    "# Создание и обучение токенизатора\n",
    "tokenizer = Tokenizer(num_words=MAX_WORDS)\n",
    "tokenizer.fit_on_texts(texts)"
   ]
  },
  {
   "cell_type": "code",
   "execution_count": 259,
   "metadata": {},
   "outputs": [],
   "source": [
    "# Преобразование текстов в числовые последовательности\n",
    "sequence = tokenizer.texts_to_sequences(texts)"
   ]
  },
  {
   "cell_type": "code",
   "execution_count": 260,
   "metadata": {},
   "outputs": [],
   "source": [
    "word_index = tokenizer.word_index"
   ]
  },
  {
   "cell_type": "code",
   "execution_count": 261,
   "metadata": {},
   "outputs": [],
   "source": [
    "data = pad_sequences(sequence, maxlen=MAX_LEN)"
   ]
  },
  {
   "cell_type": "code",
   "execution_count": 262,
   "metadata": {},
   "outputs": [],
   "source": [
    "labels = np.asarray(labels).astype(\"float32\")"
   ]
  },
  {
   "cell_type": "code",
   "execution_count": 263,
   "metadata": {},
   "outputs": [
    {
     "name": "stdout",
     "output_type": "stream",
     "text": [
      "(25000, 100) (25000,)\n"
     ]
    }
   ],
   "source": [
    "print(data.shape, labels.shape)"
   ]
  },
  {
   "cell_type": "code",
   "execution_count": 264,
   "metadata": {},
   "outputs": [
    {
     "data": {
      "text/plain": [
       "17500"
      ]
     },
     "execution_count": 264,
     "metadata": {},
     "output_type": "execute_result"
    }
   ],
   "source": [
    "# Разбиваем данные на обучающую и промежуточную выборки\n",
    "x_train, x_temp, y_train, y_temp = train_test_split(data, labels, test_size=0.3, shuffle=True)\n",
    "\n",
    "# Разбиваем промежуточную выборку на проверочную и тестовую выборки\n",
    "x_val, x_test, y_val, y_test = train_test_split(x_temp, y_temp, test_size=0.4, shuffle=True)\n",
    "len(x_train)"
   ]
  },
  {
   "cell_type": "code",
   "execution_count": 265,
   "metadata": {},
   "outputs": [
    {
     "data": {
      "text/plain": [
       "17500"
      ]
     },
     "execution_count": 265,
     "metadata": {},
     "output_type": "execute_result"
    }
   ],
   "source": [
    "len(x_train)"
   ]
  },
  {
   "cell_type": "code",
   "execution_count": 266,
   "metadata": {},
   "outputs": [],
   "source": [
    "model = Sequential([\n",
    "    Embedding(10000, 8),\n",
    "    Flatten(),\n",
    "    Dropout(0.4),\n",
    "    Dense(16, activation=\"relu\"), # Функция relu (rectified linear unit — блок линейной ректификации) используется для преобразования отрицательных значений в ноль\n",
    "    Dropout(0.4),\n",
    "    Dense(1, activation=\"sigmoid\"), # сигмоидная функция рассредоточивает произвольные значения по интервалу [0, 1]\n",
    "])"
   ]
  },
  {
   "cell_type": "code",
   "execution_count": 267,
   "metadata": {},
   "outputs": [],
   "source": [
    "model.compile(optimizer=\"adam\", \n",
    "              loss=\"binary_crossentropy\",\n",
    "              metrics=[\"acc\"])"
   ]
  },
  {
   "cell_type": "code",
   "execution_count": 268,
   "metadata": {},
   "outputs": [],
   "source": [
    "learning_rate_reduction = ReduceLROnPlateau(monitor='val_acc', \n",
    "                                            patience=3, \n",
    "                                            verbose=1, \n",
    "                                            factor=0.4, \n",
    "                                            min_lr=0.00001)\n",
    "\n",
    "\n",
    "early_stopping = EarlyStopping(patience = 5)\n",
    "    \n",
    "callbacks = [early_stopping, learning_rate_reduction]"
   ]
  },
  {
   "cell_type": "code",
   "execution_count": 269,
   "metadata": {},
   "outputs": [
    {
     "name": "stdout",
     "output_type": "stream",
     "text": [
      "Epoch 1/15\n",
      "\u001b[1m547/547\u001b[0m \u001b[32m━━━━━━━━━━━━━━━━━━━━\u001b[0m\u001b[37m\u001b[0m \u001b[1m2s\u001b[0m 2ms/step - acc: 0.5355 - loss: 0.6796 - val_acc: 0.8324 - val_loss: 0.3930 - learning_rate: 0.0010\n",
      "Epoch 2/15\n",
      "\u001b[1m547/547\u001b[0m \u001b[32m━━━━━━━━━━━━━━━━━━━━\u001b[0m\u001b[37m\u001b[0m \u001b[1m1s\u001b[0m 1ms/step - acc: 0.8516 - loss: 0.3648 - val_acc: 0.8584 - val_loss: 0.3299 - learning_rate: 0.0010\n",
      "Epoch 3/15\n",
      "\u001b[1m547/547\u001b[0m \u001b[32m━━━━━━━━━━━━━━━━━━━━\u001b[0m\u001b[37m\u001b[0m \u001b[1m1s\u001b[0m 1ms/step - acc: 0.8968 - loss: 0.2664 - val_acc: 0.8620 - val_loss: 0.3265 - learning_rate: 0.0010\n",
      "Epoch 4/15\n",
      "\u001b[1m547/547\u001b[0m \u001b[32m━━━━━━━━━━━━━━━━━━━━\u001b[0m\u001b[37m\u001b[0m \u001b[1m1s\u001b[0m 1ms/step - acc: 0.9331 - loss: 0.1964 - val_acc: 0.8551 - val_loss: 0.3574 - learning_rate: 0.0010\n",
      "Epoch 5/15\n",
      "\u001b[1m547/547\u001b[0m \u001b[32m━━━━━━━━━━━━━━━━━━━━\u001b[0m\u001b[37m\u001b[0m \u001b[1m1s\u001b[0m 1ms/step - acc: 0.9510 - loss: 0.1478 - val_acc: 0.8471 - val_loss: 0.3852 - learning_rate: 0.0010\n",
      "Epoch 6/15\n",
      "\u001b[1m533/547\u001b[0m \u001b[32m━━━━━━━━━━━━━━━━━━━\u001b[0m\u001b[37m━\u001b[0m \u001b[1m0s\u001b[0m 1ms/step - acc: 0.9536 - loss: 0.1312\n",
      "Epoch 6: ReduceLROnPlateau reducing learning rate to 0.0004000000189989805.\n",
      "\u001b[1m547/547\u001b[0m \u001b[32m━━━━━━━━━━━━━━━━━━━━\u001b[0m\u001b[37m\u001b[0m \u001b[1m1s\u001b[0m 1ms/step - acc: 0.9535 - loss: 0.1313 - val_acc: 0.8462 - val_loss: 0.4182 - learning_rate: 0.0010\n",
      "Epoch 7/15\n",
      "\u001b[1m547/547\u001b[0m \u001b[32m━━━━━━━━━━━━━━━━━━━━\u001b[0m\u001b[37m\u001b[0m \u001b[1m1s\u001b[0m 1ms/step - acc: 0.9659 - loss: 0.0991 - val_acc: 0.8416 - val_loss: 0.4394 - learning_rate: 4.0000e-04\n",
      "Epoch 8/15\n",
      "\u001b[1m547/547\u001b[0m \u001b[32m━━━━━━━━━━━━━━━━━━━━\u001b[0m\u001b[37m\u001b[0m \u001b[1m1s\u001b[0m 1ms/step - acc: 0.9755 - loss: 0.0798 - val_acc: 0.8418 - val_loss: 0.4641 - learning_rate: 4.0000e-04\n"
     ]
    }
   ],
   "source": [
    "history = model.fit(x_train, \n",
    "                    y_train, \n",
    "                    epochs=EPOCHS, \n",
    "                    batch_size=BATCH_SIZE, \n",
    "                    validation_data=(x_val, y_val),\n",
    "                    callbacks=callbacks)"
   ]
  },
  {
   "cell_type": "code",
   "execution_count": 270,
   "metadata": {},
   "outputs": [
    {
     "data": {
      "text/plain": [
       "<matplotlib.legend.Legend at 0x1262f4597f0>"
      ]
     },
     "execution_count": 270,
     "metadata": {},
     "output_type": "execute_result"
    },
    {
     "data": {
      "image/png": "[encoded data removed]",
      "text/plain": [
       "<Figure size 640x480 with 1 Axes>"
      ]
     },
     "metadata": {},
     "output_type": "display_data"
    },
    {
     "data": {
      "image/png": "[encoded data removed]",
      "text/plain": [
       "<Figure size 640x480 with 1 Axes>"
      ]
     },
     "metadata": {},
     "output_type": "display_data"
    }
   ],
   "source": [
    "loss = history.history[\"loss\"]\n",
    "val_loss = history.history[\"val_loss\"]\n",
    "epochs = range(1, len(loss) + 1)\n",
    "\n",
    "acc = history.history['acc']\n",
    "val_acc = history.history['val_acc']\n",
    "loss = history.history['loss']\n",
    "val_loss = history.history['val_loss']\n",
    "plt.figure()\n",
    "plt.plot(acc, 'bo', label='Train acc')\n",
    "plt.plot(val_acc, 'b', label='Validation acc')\n",
    "plt.title('Training and validation accuracy')\n",
    "plt.legend()\n",
    "\n",
    "plt.figure()\n",
    "plt.plot(loss, 'bo', label='Train loss')\n",
    "plt.plot(val_loss, 'b', label='Validation loss')\n",
    "plt.title('Training and validation loss')\n",
    "plt.legend()"
   ]
  },
  {
   "cell_type": "code",
   "execution_count": 271,
   "metadata": {},
   "outputs": [
    {
     "name": "stdout",
     "output_type": "stream",
     "text": [
      "\u001b[1m94/94\u001b[0m \u001b[32m━━━━━━━━━━━━━━━━━━━━\u001b[0m\u001b[37m\u001b[0m \u001b[1m0s\u001b[0m 810us/step\n"
     ]
    },
    {
     "data": {
      "text/plain": [
       "array([[0.9960496 ],\n",
       "       [0.63472795],\n",
       "       [0.9903161 ],\n",
       "       ...,\n",
       "       [0.98325723],\n",
       "       [0.0042543 ],\n",
       "       [0.27920997]], dtype=float32)"
      ]
     },
     "execution_count": 271,
     "metadata": {},
     "output_type": "execute_result"
    }
   ],
   "source": [
    "pred = model.predict(x_test)\n",
    "pred"
   ]
  },
  {
   "cell_type": "code",
   "execution_count": 272,
   "metadata": {},
   "outputs": [],
   "source": [
    "pred_labels = (pred > 0.5).astype(int)"
   ]
  },
  {
   "cell_type": "code",
   "execution_count": 273,
   "metadata": {},
   "outputs": [],
   "source": [
    "# Загрузка словаря\n",
    "word_index = imdb.get_word_index()\n",
    "reverse_word_index = {value: key for key, value in word_index.items()}\n",
    "\n",
    "# Преобразование числовых последовательностей в текст\n",
    "decoded_reviews = []\n",
    "for seq in x_test:\n",
    "    decoded_review = ' '.join([reverse_word_index.get(i - 3, '***') for i in seq])\n",
    "    decoded_reviews.append(decoded_review)\n"
   ]
  },
  {
   "cell_type": "code",
   "execution_count": 274,
   "metadata": {},
   "outputs": [
    {
     "data": {
      "text/html": [
       "<div>\n",
       "<style scoped>\n",
       "    .dataframe tbody tr th:only-of-type {\n",
       "        vertical-align: middle;\n",
       "    }\n",
       "\n",
       "    .dataframe tbody tr th {\n",
       "        vertical-align: top;\n",
       "    }\n",
       "\n",
       "    .dataframe thead th {\n",
       "        text-align: right;\n",
       "    }\n",
       "</style>\n",
       "<table border=\"1\" class=\"dataframe\">\n",
       "  <thead>\n",
       "    <tr style=\"text-align: right;\">\n",
       "      <th></th>\n",
       "      <th>Review</th>\n",
       "      <th>True Label</th>\n",
       "      <th>Predicted Probability</th>\n",
       "      <th>Predicted Label</th>\n",
       "    </tr>\n",
       "  </thead>\n",
       "  <tbody>\n",
       "    <tr>\n",
       "      <th>0</th>\n",
       "      <td>watching you're par a get insist one ford *** ...</td>\n",
       "      <td>1.0</td>\n",
       "      <td>0.996050</td>\n",
       "      <td>1</td>\n",
       "    </tr>\n",
       "    <tr>\n",
       "      <th>1</th>\n",
       "      <td>*** *** *** *** *** *** *** *** *** *** *** **...</td>\n",
       "      <td>1.0</td>\n",
       "      <td>0.634728</td>\n",
       "      <td>1</td>\n",
       "    </tr>\n",
       "    <tr>\n",
       "      <th>2</th>\n",
       "      <td>whose they *** look now wonder *** *** have ha...</td>\n",
       "      <td>1.0</td>\n",
       "      <td>0.990316</td>\n",
       "      <td>1</td>\n",
       "    </tr>\n",
       "    <tr>\n",
       "      <th>3</th>\n",
       "      <td>*** *** *** *** *** *** *** *** *** *** *** **...</td>\n",
       "      <td>1.0</td>\n",
       "      <td>0.999842</td>\n",
       "      <td>1</td>\n",
       "    </tr>\n",
       "    <tr>\n",
       "      <th>4</th>\n",
       "      <td>than *** be not late through but worst own rea...</td>\n",
       "      <td>1.0</td>\n",
       "      <td>0.189481</td>\n",
       "      <td>0</td>\n",
       "    </tr>\n",
       "    <tr>\n",
       "      <th>...</th>\n",
       "      <td>...</td>\n",
       "      <td>...</td>\n",
       "      <td>...</td>\n",
       "      <td>...</td>\n",
       "    </tr>\n",
       "    <tr>\n",
       "      <th>2995</th>\n",
       "      <td>*** 100 chase *** rather manga *** premise was...</td>\n",
       "      <td>0.0</td>\n",
       "      <td>0.996324</td>\n",
       "      <td>1</td>\n",
       "    </tr>\n",
       "    <tr>\n",
       "      <th>2996</th>\n",
       "      <td>but to *** wow truth to *** would definitely m...</td>\n",
       "      <td>0.0</td>\n",
       "      <td>0.001436</td>\n",
       "      <td>0</td>\n",
       "    </tr>\n",
       "    <tr>\n",
       "      <th>2997</th>\n",
       "      <td>kidnapped follows *** europa where first and h...</td>\n",
       "      <td>1.0</td>\n",
       "      <td>0.983257</td>\n",
       "      <td>1</td>\n",
       "    </tr>\n",
       "    <tr>\n",
       "      <th>2998</th>\n",
       "      <td>due like *** laugh outfit chemistry with even ...</td>\n",
       "      <td>0.0</td>\n",
       "      <td>0.004254</td>\n",
       "      <td>0</td>\n",
       "    </tr>\n",
       "    <tr>\n",
       "      <th>2999</th>\n",
       "      <td>*** *** *** *** *** *** *** *** *** *** *** **...</td>\n",
       "      <td>0.0</td>\n",
       "      <td>0.279210</td>\n",
       "      <td>0</td>\n",
       "    </tr>\n",
       "  </tbody>\n",
       "</table>\n",
       "<p>3000 rows × 4 columns</p>\n",
       "</div>"
      ],
      "text/plain": [
       "                                                 Review  True Label  \\\n",
       "0     watching you're par a get insist one ford *** ...         1.0   \n",
       "1     *** *** *** *** *** *** *** *** *** *** *** **...         1.0   \n",
       "2     whose they *** look now wonder *** *** have ha...         1.0   \n",
       "3     *** *** *** *** *** *** *** *** *** *** *** **...         1.0   \n",
       "4     than *** be not late through but worst own rea...         1.0   \n",
       "...                                                 ...         ...   \n",
       "2995  *** 100 chase *** rather manga *** premise was...         0.0   \n",
       "2996  but to *** wow truth to *** would definitely m...         0.0   \n",
       "2997  kidnapped follows *** europa where first and h...         1.0   \n",
       "2998  due like *** laugh outfit chemistry with even ...         0.0   \n",
       "2999  *** *** *** *** *** *** *** *** *** *** *** **...         0.0   \n",
       "\n",
       "      Predicted Probability  Predicted Label  \n",
       "0                  0.996050                1  \n",
       "1                  0.634728                1  \n",
       "2                  0.990316                1  \n",
       "3                  0.999842                1  \n",
       "4                  0.189481                0  \n",
       "...                     ...              ...  \n",
       "2995               0.996324                1  \n",
       "2996               0.001436                0  \n",
       "2997               0.983257                1  \n",
       "2998               0.004254                0  \n",
       "2999               0.279210                0  \n",
       "\n",
       "[3000 rows x 4 columns]"
      ]
     },
     "execution_count": 274,
     "metadata": {},
     "output_type": "execute_result"
    }
   ],
   "source": [
    "# Создание DataFrame для всех данных\n",
    "results = pd.DataFrame({\n",
    "    'Review': decoded_reviews,\n",
    "    'True Label': y_test,\n",
    "    'Predicted Probability': pred.flatten(),\n",
    "    'Predicted Label': pred_labels.flatten()\n",
    "})\n",
    "\n",
    "pd.DataFrame(results)"
   ]
  },
  {
   "cell_type": "code",
   "execution_count": 275,
   "metadata": {},
   "outputs": [],
   "source": [
    "embeddings_index = {}\n",
    "\n",
    "with open(os.path.join(GLOVE_DIRECTORY, 'glove.6B.100d.txt'), encoding='utf-8') as f:\n",
    "    for line in f:\n",
    "        values = line.split()\n",
    "        word = values[0]\n",
    "        coefs = np.asarray(values[1:], dtype='float32')\n",
    "        embeddings_index[word] = coefs\n"
   ]
  },
  {
   "cell_type": "code",
   "execution_count": 276,
   "metadata": {},
   "outputs": [],
   "source": [
    "# Шаг 2: Создание эмбеддинговой матрицы\n",
    "def create_embedding_matrix(word_index, embeddings_index, embedding_dim):\n",
    "    embedding_matrix = np.zeros((len(word_index) + 1, embedding_dim))\n",
    "    for word, i in word_index.items():\n",
    "        embedding_vector = embeddings_index.get(word)\n",
    "        if embedding_vector is not None:\n",
    "            embedding_matrix[i] = embedding_vector\n",
    "    return embedding_matrix"
   ]
  },
  {
   "cell_type": "code",
   "execution_count": 277,
   "metadata": {},
   "outputs": [],
   "source": [
    "embedding_dim = 100\n",
    "embedding_matrix = create_embedding_matrix(word_index, embeddings_index, embedding_dim)"
   ]
  },
  {
   "cell_type": "code",
   "execution_count": 278,
   "metadata": {},
   "outputs": [
    {
     "name": "stderr",
     "output_type": "stream",
     "text": [
      "c:\\Users\\ivanz\\AppData\\Local\\Programs\\Python\\Python312\\Lib\\site-packages\\keras\\src\\layers\\core\\embedding.py:90: UserWarning: Argument `input_length` is deprecated. Just remove it.\n",
      "  warnings.warn(\n"
     ]
    }
   ],
   "source": [
    "new_model = Sequential([\n",
    "    Embedding(input_dim=len(word_index) + 1,\n",
    "              output_dim=embedding_dim,\n",
    "              weights=[embedding_matrix],\n",
    "              input_length=MAX_LEN,\n",
    "              trainable = False), # Максимальная длина входной последовательности\n",
    "    \n",
    "    LSTM(32),\n",
    "    Dense(16, activation=\"relu\"), # Функция relu (rectified linear unit — блок линейной ректификации) используется для преобразования отрицательных значений в ноль\n",
    "    Dropout(0.4),\n",
    "    Dense(1, activation=\"sigmoid\"), # сигмоидная функция рассредоточивает произвольные значения по интервалу [0, 1]\n",
    "])"
   ]
  },
  {
   "cell_type": "code",
   "execution_count": 279,
   "metadata": {},
   "outputs": [],
   "source": [
    "new_model.compile(optimizer=\"adam\", \n",
    "              loss=\"binary_crossentropy\",\n",
    "              metrics=[\"acc\"])"
   ]
  },
  {
   "cell_type": "code",
   "execution_count": 280,
   "metadata": {},
   "outputs": [],
   "source": [
    "learning_rate_reduction = ReduceLROnPlateau(monitor='val_acc', \n",
    "                                            patience=3, \n",
    "                                            verbose=1, \n",
    "                                            factor=0.4, \n",
    "                                            min_lr=0.00001)\n",
    "\n",
    "\n",
    "early_stopping = EarlyStopping(patience = 5)\n",
    "    \n",
    "callbacks = [early_stopping, learning_rate_reduction]"
   ]
  },
  {
   "cell_type": "code",
   "execution_count": 281,
   "metadata": {},
   "outputs": [
    {
     "name": "stdout",
     "output_type": "stream",
     "text": [
      "Epoch 1/15\n",
      "\u001b[1m547/547\u001b[0m \u001b[32m━━━━━━━━━━━━━━━━━━━━\u001b[0m\u001b[37m\u001b[0m \u001b[1m10s\u001b[0m 15ms/step - acc: 0.5556 - loss: 0.6805 - val_acc: 0.6587 - val_loss: 0.6102 - learning_rate: 0.0010\n",
      "Epoch 2/15\n",
      "\u001b[1m547/547\u001b[0m \u001b[32m━━━━━━━━━━━━━━━━━━━━\u001b[0m\u001b[37m\u001b[0m \u001b[1m8s\u001b[0m 15ms/step - acc: 0.7057 - loss: 0.5798 - val_acc: 0.7396 - val_loss: 0.5126 - learning_rate: 0.0010\n",
      "Epoch 3/15\n",
      "\u001b[1m547/547\u001b[0m \u001b[32m━━━━━━━━━━━━━━━━━━━━\u001b[0m\u001b[37m\u001b[0m \u001b[1m8s\u001b[0m 15ms/step - acc: 0.7468 - loss: 0.5235 - val_acc: 0.7653 - val_loss: 0.4921 - learning_rate: 0.0010\n",
      "Epoch 4/15\n",
      "\u001b[1m547/547\u001b[0m \u001b[32m━━━━━━━━━━━━━━━━━━━━\u001b[0m\u001b[37m\u001b[0m \u001b[1m8s\u001b[0m 15ms/step - acc: 0.7576 - loss: 0.4961 - val_acc: 0.7780 - val_loss: 0.4615 - learning_rate: 0.0010\n",
      "Epoch 5/15\n",
      "\u001b[1m547/547\u001b[0m \u001b[32m━━━━━━━━━━━━━━━━━━━━\u001b[0m\u001b[37m\u001b[0m \u001b[1m8s\u001b[0m 15ms/step - acc: 0.7749 - loss: 0.4704 - val_acc: 0.7898 - val_loss: 0.4340 - learning_rate: 0.0010\n",
      "Epoch 6/15\n",
      "\u001b[1m547/547\u001b[0m \u001b[32m━━━━━━━━━━━━━━━━━━━━\u001b[0m\u001b[37m\u001b[0m \u001b[1m9s\u001b[0m 16ms/step - acc: 0.7995 - loss: 0.4379 - val_acc: 0.8000 - val_loss: 0.4264 - learning_rate: 0.0010\n",
      "Epoch 7/15\n",
      "\u001b[1m547/547\u001b[0m \u001b[32m━━━━━━━━━━━━━━━━━━━━\u001b[0m\u001b[37m\u001b[0m \u001b[1m8s\u001b[0m 15ms/step - acc: 0.8056 - loss: 0.4178 - val_acc: 0.7867 - val_loss: 0.4355 - learning_rate: 0.0010\n",
      "Epoch 8/15\n",
      "\u001b[1m547/547\u001b[0m \u001b[32m━━━━━━━━━━━━━━━━━━━━\u001b[0m\u001b[37m\u001b[0m \u001b[1m8s\u001b[0m 15ms/step - acc: 0.8259 - loss: 0.4004 - val_acc: 0.8031 - val_loss: 0.4162 - learning_rate: 0.0010\n",
      "Epoch 9/15\n",
      "\u001b[1m547/547\u001b[0m \u001b[32m━━━━━━━━━━━━━━━━━━━━\u001b[0m\u001b[37m\u001b[0m \u001b[1m9s\u001b[0m 16ms/step - acc: 0.8323 - loss: 0.3841 - val_acc: 0.8100 - val_loss: 0.4217 - learning_rate: 0.0010\n",
      "Epoch 10/15\n",
      "\u001b[1m547/547\u001b[0m \u001b[32m━━━━━━━━━━━━━━━━━━━━\u001b[0m\u001b[37m\u001b[0m \u001b[1m10s\u001b[0m 19ms/step - acc: 0.8366 - loss: 0.3679 - val_acc: 0.7964 - val_loss: 0.4283 - learning_rate: 0.0010\n",
      "Epoch 11/15\n",
      "\u001b[1m547/547\u001b[0m \u001b[32m━━━━━━━━━━━━━━━━━━━━\u001b[0m\u001b[37m\u001b[0m \u001b[1m12s\u001b[0m 21ms/step - acc: 0.8446 - loss: 0.3437 - val_acc: 0.8060 - val_loss: 0.4219 - learning_rate: 0.0010\n",
      "Epoch 12/15\n",
      "\u001b[1m547/547\u001b[0m \u001b[32m━━━━━━━━━━━━━━━━━━━━\u001b[0m\u001b[37m\u001b[0m \u001b[1m11s\u001b[0m 20ms/step - acc: 0.8611 - loss: 0.3300 - val_acc: 0.8109 - val_loss: 0.4208 - learning_rate: 0.0010\n",
      "Epoch 13/15\n",
      "\u001b[1m547/547\u001b[0m \u001b[32m━━━━━━━━━━━━━━━━━━━━\u001b[0m\u001b[37m\u001b[0m \u001b[1m11s\u001b[0m 20ms/step - acc: 0.8662 - loss: 0.3134 - val_acc: 0.8078 - val_loss: 0.4460 - learning_rate: 0.0010\n"
     ]
    }
   ],
   "source": [
    "history = new_model.fit(x_train, \n",
    "                    y_train, \n",
    "                    epochs=EPOCHS, \n",
    "                    batch_size=BATCH_SIZE, \n",
    "                    validation_data=(x_val, y_val),\n",
    "                    callbacks=callbacks)"
   ]
  },
  {
   "cell_type": "code",
   "execution_count": 282,
   "metadata": {},
   "outputs": [
    {
     "data": {
      "text/plain": [
       "<matplotlib.legend.Legend at 0x12615bce510>"
      ]
     },
     "execution_count": 282,
     "metadata": {},
     "output_type": "execute_result"
    },
    {
     "data": {
      "image/png": "[encoded data removed]",
      "text/plain": [
       "<Figure size 640x480 with 1 Axes>"
      ]
     },
     "metadata": {},
     "output_type": "display_data"
    },
    {
     "data": {
      "image/png": "[encoded data removed]",
      "text/plain": [
       "<Figure size 640x480 with 1 Axes>"
      ]
     },
     "metadata": {},
     "output_type": "display_data"
    }
   ],
   "source": [
    "loss = history.history[\"loss\"]\n",
    "val_loss = history.history[\"val_loss\"]\n",
    "epochs = range(1, len(loss) + 1)\n",
    "\n",
    "acc = history.history['acc']\n",
    "val_acc = history.history['val_acc']\n",
    "loss = history.history['loss']\n",
    "val_loss = history.history['val_loss']\n",
    "plt.figure()\n",
    "plt.plot(acc, 'bo', label='Train acc')\n",
    "plt.plot(val_acc, 'b', label='Validation acc')\n",
    "plt.title('Training and validation accuracy')\n",
    "plt.legend()\n",
    "\n",
    "plt.figure()\n",
    "plt.plot(loss, 'bo', label='Train loss')\n",
    "plt.plot(val_loss, 'b', label='Validation loss')\n",
    "plt.title('Training and validation loss')\n",
    "plt.legend()"
   ]
  },
  {
   "cell_type": "code",
   "execution_count": null,
   "metadata": {},
   "outputs": [],
   "source": []
  }
 ],
 "metadata": {
  "kernelspec": {
   "display_name": "Python 3",
   "language": "python",
   "name": "python3"
  },
  "language_info": {
   "codemirror_mode": {
    "name": "ipython",
    "version": 3
   },
   "file_extension": ".py",
   "mimetype": "text/x-python",
   "name": "python",
   "nbconvert_exporter": "python",
   "pygments_lexer": "ipython3",
   "version": "3.12.3"
  }
 },
 "nbformat": 4,
 "nbformat_minor": 2
}
